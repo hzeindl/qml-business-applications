{
 "cells": [
  {
   "cell_type": "markdown",
   "id": "787fdb2e-5d68-4f0f-b0ee-f46829e9f556",
   "metadata": {},
   "source": [
    "# Churn Prediction with PennyLane"
   ]
  },
  {
   "cell_type": "markdown",
   "id": "318a3258-5d7f-4b53-8e7c-fc26e3df5f7f",
   "metadata": {},
   "source": [
    "This notebook demonstrates how a variational quantum machine learning (QML) model, also known as quantum neural network (QNN), can be trained using PennyLane and its TensorFlow/Keras interface. The chosen <b>dataset</b> emulates a typical scenario of predicting customer churn in retail banking and has been obtained from the source below:\n",
    "<br>\n",
    "<br>\n",
    "Gaurav Topre. Bank customer churn dataset. https://www.kaggle.com/datasets/gauravtopre/bank-customer-churn-dataset, 2023\n",
    "<br>\n",
    "<br>\n",
    "The <b>PennyLane code</b> for this example has been adapted from the following book: \n",
    "<br>\n",
    "<br>\n",
    "Elías F. Combarro and Samuel González-Castillo. <i>A Practical Guide to Quantum Machine Learning and Quantum Optimization: Hands-on \n",
    "Approach to Modern Quantum Algorithms</i>. Packt Publishing Ltd, Birmingham, 2023"
   ]
  },
  {
   "cell_type": "markdown",
   "id": "a3cb57c0-126c-4f86-87f5-a7af9c2f97a0",
   "metadata": {},
   "source": [
    "## Environment setup"
   ]
  },
  {
   "cell_type": "markdown",
   "id": "60d4cb47-6a9b-4062-8b0a-ff5cb6c52119",
   "metadata": {},
   "source": [
    "We begin by performing necessary imports and configurations:"
   ]
  },
  {
   "cell_type": "code",
   "execution_count": 1,
   "id": "991527db-2df1-4f70-ab3b-7907507af09f",
   "metadata": {},
   "outputs": [],
   "source": [
    "import numpy as np\n",
    "import pandas as pd\n",
    "import matplotlib.pyplot as plt\n",
    "from itertools import combinations\n",
    "from sklearn.ensemble import RandomForestClassifier\n",
    "from sklearn.metrics import accuracy_score, classification_report\n",
    "from sklearn.model_selection import train_test_split\n",
    "from sklearn.preprocessing import MinMaxScaler\n",
    "import pennylane as qml\n",
    "import tensorflow as tf"
   ]
  },
  {
   "cell_type": "code",
   "execution_count": 2,
   "id": "87346c14-4407-435a-8df9-6de3647b6ef6",
   "metadata": {},
   "outputs": [],
   "source": [
    "# Set the seed for reproducibility\n",
    "seed = 4321\n",
    "np.random.seed(seed)\n",
    "tf.random.set_seed(seed)\n",
    "\n",
    "# Let tf work with doubles, as PennyLane does\n",
    "# this is mandatory if the Lightning simulator is used\n",
    "tf.keras.backend.set_floatx('float64')"
   ]
  },
  {
   "cell_type": "markdown",
   "id": "e8450ed7-ad55-4cf3-b5d3-b87cabfe099b",
   "metadata": {},
   "source": [
    "## Loading and inspecting the data"
   ]
  },
  {
   "cell_type": "markdown",
   "id": "88127e3f-8498-4e84-88b4-7bd881dc32d1",
   "metadata": {},
   "source": [
    "Next, we load the dataset, which is assumed to be located in the same folder as this notebook. We drop the categorical features 'country' and 'customer_id', since a one-hot encoding of their individual categories would lead to a large total number of features, which we want to avoid for our simulations. In addition, 'gender' needs to be encoded numerically."
   ]
  },
  {
   "cell_type": "code",
   "execution_count": 3,
   "id": "fbd4ef78-0ba2-4886-a47c-e4fc02d76664",
   "metadata": {},
   "outputs": [
    {
     "data": {
      "text/plain": [
       "(10000, 10)"
      ]
     },
     "execution_count": 3,
     "metadata": {},
     "output_type": "execute_result"
    }
   ],
   "source": [
    "churn_df = pd.read_csv(\"bank_churn_prediction.csv\")\n",
    "\n",
    "# Drop country and id features \n",
    "churn_df = churn_df.drop(columns=['country', 'customer_id'])\n",
    "\n",
    "# One-hot encoding of gender and replacing the original column\n",
    "churn_df['male'] = pd.get_dummies(churn_df['gender'], drop_first=True).astype(int)\n",
    "churn_df = churn_df.drop(columns=['gender'])\n",
    "\n",
    "churn_df.shape"
   ]
  },
  {
   "cell_type": "markdown",
   "id": "c6900dbe-b669-490a-911b-a6be27de515f",
   "metadata": {},
   "source": [
    "This leaves us with a dataset of 10.000 samples consisting of a binary target and 9 numerical features. Some descriptive statistics are provided below."
   ]
  },
  {
   "cell_type": "code",
   "execution_count": 4,
   "id": "210d6f2a-830d-4736-bb7e-ed79c620ac31",
   "metadata": {},
   "outputs": [
    {
     "data": {
      "text/html": [
       "<div>\n",
       "<style scoped>\n",
       "    .dataframe tbody tr th:only-of-type {\n",
       "        vertical-align: middle;\n",
       "    }\n",
       "\n",
       "    .dataframe tbody tr th {\n",
       "        vertical-align: top;\n",
       "    }\n",
       "\n",
       "    .dataframe thead th {\n",
       "        text-align: right;\n",
       "    }\n",
       "</style>\n",
       "<table border=\"1\" class=\"dataframe\">\n",
       "  <thead>\n",
       "    <tr style=\"text-align: right;\">\n",
       "      <th></th>\n",
       "      <th>credit_score</th>\n",
       "      <th>age</th>\n",
       "      <th>tenure</th>\n",
       "      <th>balance</th>\n",
       "      <th>products_number</th>\n",
       "      <th>credit_card</th>\n",
       "      <th>active_member</th>\n",
       "      <th>estimated_salary</th>\n",
       "      <th>churn</th>\n",
       "      <th>male</th>\n",
       "    </tr>\n",
       "  </thead>\n",
       "  <tbody>\n",
       "    <tr>\n",
       "      <th>count</th>\n",
       "      <td>10000.000000</td>\n",
       "      <td>10000.000000</td>\n",
       "      <td>10000.000000</td>\n",
       "      <td>10000.000000</td>\n",
       "      <td>10000.000000</td>\n",
       "      <td>10000.00000</td>\n",
       "      <td>10000.000000</td>\n",
       "      <td>10000.000000</td>\n",
       "      <td>10000.000000</td>\n",
       "      <td>10000.000000</td>\n",
       "    </tr>\n",
       "    <tr>\n",
       "      <th>mean</th>\n",
       "      <td>650.528800</td>\n",
       "      <td>38.921800</td>\n",
       "      <td>5.012800</td>\n",
       "      <td>76485.889288</td>\n",
       "      <td>1.530200</td>\n",
       "      <td>0.70550</td>\n",
       "      <td>0.515100</td>\n",
       "      <td>100090.239881</td>\n",
       "      <td>0.203700</td>\n",
       "      <td>0.545700</td>\n",
       "    </tr>\n",
       "    <tr>\n",
       "      <th>std</th>\n",
       "      <td>96.653299</td>\n",
       "      <td>10.487806</td>\n",
       "      <td>2.892174</td>\n",
       "      <td>62397.405202</td>\n",
       "      <td>0.581654</td>\n",
       "      <td>0.45584</td>\n",
       "      <td>0.499797</td>\n",
       "      <td>57510.492818</td>\n",
       "      <td>0.402769</td>\n",
       "      <td>0.497932</td>\n",
       "    </tr>\n",
       "    <tr>\n",
       "      <th>min</th>\n",
       "      <td>350.000000</td>\n",
       "      <td>18.000000</td>\n",
       "      <td>0.000000</td>\n",
       "      <td>0.000000</td>\n",
       "      <td>1.000000</td>\n",
       "      <td>0.00000</td>\n",
       "      <td>0.000000</td>\n",
       "      <td>11.580000</td>\n",
       "      <td>0.000000</td>\n",
       "      <td>0.000000</td>\n",
       "    </tr>\n",
       "    <tr>\n",
       "      <th>25%</th>\n",
       "      <td>584.000000</td>\n",
       "      <td>32.000000</td>\n",
       "      <td>3.000000</td>\n",
       "      <td>0.000000</td>\n",
       "      <td>1.000000</td>\n",
       "      <td>0.00000</td>\n",
       "      <td>0.000000</td>\n",
       "      <td>51002.110000</td>\n",
       "      <td>0.000000</td>\n",
       "      <td>0.000000</td>\n",
       "    </tr>\n",
       "    <tr>\n",
       "      <th>50%</th>\n",
       "      <td>652.000000</td>\n",
       "      <td>37.000000</td>\n",
       "      <td>5.000000</td>\n",
       "      <td>97198.540000</td>\n",
       "      <td>1.000000</td>\n",
       "      <td>1.00000</td>\n",
       "      <td>1.000000</td>\n",
       "      <td>100193.915000</td>\n",
       "      <td>0.000000</td>\n",
       "      <td>1.000000</td>\n",
       "    </tr>\n",
       "    <tr>\n",
       "      <th>75%</th>\n",
       "      <td>718.000000</td>\n",
       "      <td>44.000000</td>\n",
       "      <td>7.000000</td>\n",
       "      <td>127644.240000</td>\n",
       "      <td>2.000000</td>\n",
       "      <td>1.00000</td>\n",
       "      <td>1.000000</td>\n",
       "      <td>149388.247500</td>\n",
       "      <td>0.000000</td>\n",
       "      <td>1.000000</td>\n",
       "    </tr>\n",
       "    <tr>\n",
       "      <th>max</th>\n",
       "      <td>850.000000</td>\n",
       "      <td>92.000000</td>\n",
       "      <td>10.000000</td>\n",
       "      <td>250898.090000</td>\n",
       "      <td>4.000000</td>\n",
       "      <td>1.00000</td>\n",
       "      <td>1.000000</td>\n",
       "      <td>199992.480000</td>\n",
       "      <td>1.000000</td>\n",
       "      <td>1.000000</td>\n",
       "    </tr>\n",
       "  </tbody>\n",
       "</table>\n",
       "</div>"
      ],
      "text/plain": [
       "       credit_score           age        tenure        balance  \\\n",
       "count  10000.000000  10000.000000  10000.000000   10000.000000   \n",
       "mean     650.528800     38.921800      5.012800   76485.889288   \n",
       "std       96.653299     10.487806      2.892174   62397.405202   \n",
       "min      350.000000     18.000000      0.000000       0.000000   \n",
       "25%      584.000000     32.000000      3.000000       0.000000   \n",
       "50%      652.000000     37.000000      5.000000   97198.540000   \n",
       "75%      718.000000     44.000000      7.000000  127644.240000   \n",
       "max      850.000000     92.000000     10.000000  250898.090000   \n",
       "\n",
       "       products_number  credit_card  active_member  estimated_salary  \\\n",
       "count     10000.000000  10000.00000   10000.000000      10000.000000   \n",
       "mean          1.530200      0.70550       0.515100     100090.239881   \n",
       "std           0.581654      0.45584       0.499797      57510.492818   \n",
       "min           1.000000      0.00000       0.000000         11.580000   \n",
       "25%           1.000000      0.00000       0.000000      51002.110000   \n",
       "50%           1.000000      1.00000       1.000000     100193.915000   \n",
       "75%           2.000000      1.00000       1.000000     149388.247500   \n",
       "max           4.000000      1.00000       1.000000     199992.480000   \n",
       "\n",
       "              churn          male  \n",
       "count  10000.000000  10000.000000  \n",
       "mean       0.203700      0.545700  \n",
       "std        0.402769      0.497932  \n",
       "min        0.000000      0.000000  \n",
       "25%        0.000000      0.000000  \n",
       "50%        0.000000      1.000000  \n",
       "75%        0.000000      1.000000  \n",
       "max        1.000000      1.000000  "
      ]
     },
     "execution_count": 4,
     "metadata": {},
     "output_type": "execute_result"
    }
   ],
   "source": [
    "churn_df.describe()"
   ]
  },
  {
   "cell_type": "markdown",
   "id": "9f689afb-94c3-46cf-9384-aadacd7c30af",
   "metadata": {},
   "source": [
    "Since the features in our dataset differ greatly in their means and standard deviations, we will need to convert them to a standard scale in order to achieve better results with our predictions. Furthermore, we check the balance between classes of our target 'churn':"
   ]
  },
  {
   "cell_type": "code",
   "execution_count": 5,
   "id": "c4d5a9a3-f9ca-4e7d-94fc-6d177a7d3c02",
   "metadata": {},
   "outputs": [
    {
     "data": {
      "text/plain": [
       "churn\n",
       "0    7963\n",
       "1    2037\n",
       "Name: count, dtype: int64"
      ]
     },
     "execution_count": 5,
     "metadata": {},
     "output_type": "execute_result"
    }
   ],
   "source": [
    "churn_df['churn'].value_counts()"
   ]
  },
  {
   "cell_type": "markdown",
   "id": "9fdbcb53-14c1-4818-9da5-6eae5170fcf2",
   "metadata": {},
   "source": [
    "We can see that there is an unequal distribution of classes, i.e., if we draw a random sample from the data, we are far more likely to obtain a non-churning sample compared to obtaining a churning sample (approximately 80% vs. 20%). Since the business goal is to predict the churning of customers correctly, this imbalance could be addressed in a real-world setting with methods such as the Synthetic Minority Oversampling Technique (SMOTE). However, this notebook focuses on demonstrating the QML workflow instead of aiming for optimal performance. We will thus only consider this issue as a critical reminder in model evaluation."
   ]
  },
  {
   "cell_type": "markdown",
   "id": "ce60a8be-ff87-4aca-a0da-29afb029fa86",
   "metadata": {},
   "source": [
    "## Pre-processing"
   ]
  },
  {
   "cell_type": "markdown",
   "id": "0cf7e03c-a9eb-479f-8663-d26b64521bb5",
   "metadata": {},
   "source": [
    "Firstly, we separate features and target and use sklearn to perform an 80-10-10% train-validation-test split on our data."
   ]
  },
  {
   "cell_type": "code",
   "execution_count": 6,
   "id": "a3dd5d23-4271-413f-b8ae-3e9bf0e07834",
   "metadata": {},
   "outputs": [],
   "source": [
    "x = np.array(churn_df.drop(columns='churn'))\n",
    "y = np.array(churn_df['churn'])\n",
    "\n",
    "# Split the data\n",
    "x_tr, x_test, y_tr, y_test = train_test_split(x, y, train_size = 0.8)\n",
    "x_val, x_test, y_val, y_test = train_test_split(x_test, y_test, train_size = 0.5)"
   ]
  },
  {
   "cell_type": "markdown",
   "id": "2d3fe93f-8373-492d-9dfd-716095489d4a",
   "metadata": {},
   "source": [
    "Next, we tackle the standardization step which should transform all features to a common scale. Here we have to keep in mind that we later want to encode the classical data we are given into quantum states that can be processed by a variational quantum circuit. In our case, this will be a form of <b>angle encoding</b> where classical data represent angles in parameterized quantum rotation gates. Since using the full range of possible angles in $[0, 2\\pi]$ could lead to a misrepresentation of opposite ends of the interval as being close together, we use a min-max scaling to the more restricted interval $[-\\frac{\\pi}{2}, \\frac{\\pi}{2}]$. The scaler is fitted only on the training set to avoid data leakage."
   ]
  },
  {
   "cell_type": "code",
   "execution_count": 7,
   "id": "76861208-d50f-480d-abf5-5b0f9ce32e9b",
   "metadata": {},
   "outputs": [],
   "source": [
    "# Scaling\n",
    "scaler = MinMaxScaler(feature_range=(-np.pi / 2, np.pi / 2))\n",
    "x_tr = scaler.fit_transform(x_tr)\n",
    "x_test = scaler.transform(x_test)\n",
    "x_val = scaler.transform(x_val)"
   ]
  },
  {
   "cell_type": "markdown",
   "id": "3b1e06cf-ef15-432a-97af-09099937dd68",
   "metadata": {},
   "source": [
    "## Building the QNN"
   ]
  },
  {
   "cell_type": "markdown",
   "id": "a1e1071e-e0ec-446e-afba-e63198698769",
   "metadata": {},
   "source": [
    "The workflow for a quantum neural network or variational QML model in PennyLane is built of four conceptual components and one intermediate step:\n",
    "<ul>\n",
    "    <li><b>Data Encoding: </b> Representation of classical data as quantum states.</li>\n",
    "    <li><b>Ansatz: </b> Quantum circuit for manipulating the loaded states via parameterized rotations and fixed controlled operators.</li>\n",
    "    <li><b>Measurement: </b> Retrieval of classical information about the states resulting from application of ansatz.</li>\n",
    "    <li>Intermediate step: Choice of simulator and binding the previous three components together as a quantum node on the simulator.</li>\n",
    "    <li><b>Cost and Optimization: </b> Choice of an appropriate loss function and optimizer to determine best set of parameters.</li>\n",
    "</ul>"
   ]
  },
  {
   "cell_type": "markdown",
   "id": "16d576a5-4f50-42ba-915e-77a8be1be8ac",
   "metadata": {},
   "source": [
    "### Data Encoding"
   ]
  },
  {
   "cell_type": "markdown",
   "id": "3b78659f-0bc8-4e14-b0a4-7e7358b0823a",
   "metadata": {},
   "source": [
    "To represent our data as quantum states, a popular choice is the <b>ZZ feature map</b>, which we will use here. This is a form of angle encoding where the scaled classical data parameterize $R_Z$ Pauli rotation gates. Furthermore, the Hadamard gate is used to create superposition, and entangling operations are included in this encoding via the $CZ$ operator, which is a controlled two-qbit gate. \n",
    "<br>\n",
    "In the function below, 'nload' defines the number of features that we will load, since this could be smaller than the number of qbits ('nqbits') that we choose for implementing the encoding. The term 'wires' is the PennyLane wording for the qbits in a circuit."
   ]
  },
  {
   "cell_type": "code",
   "execution_count": 8,
   "id": "ff271e11-74a6-4f29-86d6-c3be90054f22",
   "metadata": {},
   "outputs": [],
   "source": [
    "def ZZFeatureMap(nqbits, data):\n",
    "    nload = min(len(data), nqbits)\n",
    "    for i in range(nload):\n",
    "        qml.Hadamard(i)\n",
    "        qml.RZ(2.0 * data[:, i], wires = i)                           \n",
    "    for pair in list(combinations(range(nload), 2)):\n",
    "        q0 = pair[0]\n",
    "        q1 = pair[1]\n",
    "        qml.CZ(wires = [q0, q1])\n",
    "        qml.RZ(2.0 * (np.pi- data[:, q0]) * (np.pi- data[:, q1]), wires = q1)\n",
    "        qml.CZ(wires = [q0, q1])"
   ]
  },
  {
   "cell_type": "markdown",
   "id": "7f892a7d-712d-4a23-b06c-a8070654463f",
   "metadata": {},
   "source": [
    "### Ansatz"
   ]
  },
  {
   "cell_type": "markdown",
   "id": "1b464b12-09e2-4d0e-92bf-99d3395258fb",
   "metadata": {},
   "source": [
    "Next, we define our ansatz. The TwoLocal ansatz belongs to the class of hardware-efficient ansätze, since it includes only operations on at most two neighboring qbits. At the same time, it can also be simulated relatively efficiently. Each layer consists of $R_Y$ rotations on all qbits, followed by an entangling block with $CNOT$ gates. This pattern may be repeated multiple times before ending with another rotation block."
   ]
  },
  {
   "cell_type": "code",
   "execution_count": 9,
   "id": "6eb15f25-95ba-494a-9e00-3b1aec6ecb07",
   "metadata": {},
   "outputs": [],
   "source": [
    "def TwoLocal(nqbits, theta, reps = 1):\n",
    "    for r in range(reps):\n",
    "        for i in range(nqbits):\n",
    "            qml.RY(theta[r * nqbits + i], wires = i)\n",
    "        for i in range(nqbits - 1):\n",
    "            qml.CNOT(wires = [i, i + 1])\n",
    "    for i in range(nqbits):\n",
    "        qml.RY(theta[reps * nqbits + i], wires = i)"
   ]
  },
  {
   "cell_type": "markdown",
   "id": "c4492428-89ea-4065-8d06-3ff13abafea0",
   "metadata": {},
   "source": [
    "### Measurement"
   ]
  },
  {
   "cell_type": "markdown",
   "id": "c341128d-f2d6-40ed-a0b0-ebd6f27f70a9",
   "metadata": {},
   "source": [
    "The choice of observable determines which classical results we retrieve during the measurement step. In our case of a supervised model, we need to align the output of our variational QML model with the binary values $\\{ 0, 1 \\}$ in our target variable. Thus, we need to choose a Hermitian matrix which has exactly these eigenvalues. This is true for the following matrix:"
   ]
  },
  {
   "cell_type": "markdown",
   "id": "8e15e94f-282e-4b63-b294-445f04a57e22",
   "metadata": {},
   "source": [
    "$$M = \\begin{pmatrix}\n",
    "1 & 0 \\\\\n",
    "0 & 0\n",
    "\\end{pmatrix}$$"
   ]
  },
  {
   "cell_type": "code",
   "execution_count": 10,
   "id": "36423700-5990-4844-a75a-160171da2091",
   "metadata": {},
   "outputs": [],
   "source": [
    "state_0 = [[1], [0]]\n",
    "M = state_0 * np.conj(state_0).T"
   ]
  },
  {
   "cell_type": "markdown",
   "id": "b7697b67-6f77-4575-88de-0a23e8caf309",
   "metadata": {},
   "source": [
    "Our measurement strategy will consist of estimating the expectation value of this observable on the first qbit in the model's circuit (readout qbit)."
   ]
  },
  {
   "cell_type": "markdown",
   "id": "f4731149-0c6b-420e-85c2-adf4a1ba00a3",
   "metadata": {},
   "source": [
    "### Binding a QuantumNode to the simulator"
   ]
  },
  {
   "cell_type": "markdown",
   "id": "06773618-0949-4ef3-939d-3e5c9cf4681f",
   "metadata": {},
   "source": [
    "PennyLane offers a broad range of [device options](https://pennylane.ai/plugins/) for simulating quantum circuits. Here we choose the PennyLane Lightning simulator on 4 qbits. To represent all our quantum model components on the simulator, we need to bind them together as a QuantumNode. In addition, we also need to indicate here that we want to use the TensorFlow interface."
   ]
  },
  {
   "cell_type": "code",
   "execution_count": 11,
   "id": "f6fbcc1c-970d-4fea-a7de-c2dc27654fe2",
   "metadata": {},
   "outputs": [],
   "source": [
    "nqbits = 4\n",
    "dev = qml.device(\"lightning.qubit\", wires=nqbits)\n",
    "  \n",
    "@qml.qnode(dev, interface=\"tf\")                  # qnode using tensorflow interface\n",
    "def qnn_circuit(inputs, theta):\n",
    "    ZZFeatureMap(nqbits, inputs)\n",
    "    TwoLocal(nqbits = nqbits, theta = theta, reps = 2)   # reps can be increased for more complex data\n",
    "    return qml.expval(qml.Hermitian(M, wires = [0])) "
   ]
  },
  {
   "cell_type": "markdown",
   "id": "9afe4037-4d48-4237-8a70-5b3b19a26061",
   "metadata": {},
   "source": [
    "### Cost and Optimization"
   ]
  },
  {
   "cell_type": "markdown",
   "id": "f6e5ad2d-b216-4ec8-a533-ce83b1d10116",
   "metadata": {},
   "source": [
    "This final step in model building will seem familiar to experienced users of Deep Learning frameworks. Essentially, we build a feed-forward neural network with the Keras Sequential pattern, using our quantum circuit as the only layer. Alternatively, it would be possible to build a hybrid model by also incorporating some classical layers here - this flexible integration is possible via the automatic differentiation provided by PennyLane. As a cost function for the classification problem of churn prediction, we take binary cross-entropy loss as a standard choice. For optimization we use Adam with a moderate learning rate and an early stopping procedure."
   ]
  },
  {
   "cell_type": "code",
   "execution_count": 12,
   "id": "6b867439-bb4e-48c2-aa3b-8585e82f4fef",
   "metadata": {
    "scrolled": true
   },
   "outputs": [],
   "source": [
    "# package the circuit as a quantum keras layer\n",
    "weights = {\"theta\": 16}\n",
    "qlayer = qml.qnn.KerasLayer(qnn_circuit, weights, output_dim=1)\n",
    "\n",
    "# create the model\n",
    "model = tf.keras.models.Sequential([qlayer])\n",
    "\n",
    "# pick adam optimizer and bce loss \n",
    "opt = tf.keras.optimizers.Adam(learning_rate = 0.001)\n",
    "model.compile(opt, loss=tf.keras.losses.BinaryCrossentropy())\n",
    "\n",
    "# early stopping on val loss with two epochs of patience\n",
    "earlystop = tf.keras.callbacks.EarlyStopping(monitor = \"val_loss\", patience = 2, verbose = 1, restore_best_weights = True)"
   ]
  },
  {
   "cell_type": "markdown",
   "id": "45a4f6a0-4cc2-4c06-9d61-67bb94ca351f",
   "metadata": {},
   "source": [
    "## Model Training"
   ]
  },
  {
   "cell_type": "markdown",
   "id": "bc8cdf28-caca-40be-8fa6-b1898996e117",
   "metadata": {},
   "source": [
    "We now fit the model to the training data over a maximum of 10 epochs. At this point we can also set the batch size."
   ]
  },
  {
   "cell_type": "code",
   "execution_count": 13,
   "id": "a92c810f-bb1f-4a83-bc18-369781e71d9a",
   "metadata": {},
   "outputs": [
    {
     "name": "stdout",
     "output_type": "stream",
     "text": [
      "Epoch 1/10\n",
      "160/160 [==============================] - 301s 2s/step - loss: 0.6683 - val_loss: 0.6661\n",
      "Epoch 2/10\n",
      "160/160 [==============================] - 300s 2s/step - loss: 0.6531 - val_loss: 0.6590\n",
      "Epoch 3/10\n",
      "160/160 [==============================] - 302s 2s/step - loss: 0.6470 - val_loss: 0.6567\n",
      "Epoch 4/10\n",
      "160/160 [==============================] - 295s 2s/step - loss: 0.6449 - val_loss: 0.6564\n",
      "Epoch 5/10\n",
      "160/160 [==============================] - 297s 2s/step - loss: 0.6442 - val_loss: 0.6563\n",
      "Epoch 6/10\n",
      "160/160 [==============================] - 293s 2s/step - loss: 0.6440 - val_loss: 0.6564\n",
      "Epoch 7/10\n",
      "160/160 [==============================] - ETA: 0s - loss: 0.6440Restoring model weights from the end of the best epoch: 5.\n",
      "160/160 [==============================] - 287s 2s/step - loss: 0.6440 - val_loss: 0.6565\n",
      "Epoch 7: early stopping\n"
     ]
    }
   ],
   "source": [
    "history = model.fit(x_tr, y_tr, epochs = 10, shuffle = True,\n",
    "                    validation_data = (x_val, y_val),\n",
    "                    batch_size = 50,\n",
    "                    callbacks = [earlystop])"
   ]
  },
  {
   "cell_type": "code",
   "execution_count": 14,
   "id": "1cdab151-6ef1-44bb-bb19-dc27611273d2",
   "metadata": {},
   "outputs": [],
   "source": [
    "# Plot training progress / loss history\n",
    "def plot_losses(history):\n",
    "    tr_loss = history.history[\"loss\"]\n",
    "    val_loss = history.history[\"val_loss\"]\n",
    "    epochs = np.array(range(len(tr_loss))) + 1\n",
    "    plt.plot(epochs, tr_loss, label = \"Training loss\")\n",
    "    plt.plot(epochs, val_loss, label = \"Validation loss\")\n",
    "    plt.xlabel(\"Epoch\")\n",
    "    plt.legend()\n",
    "    plt.show()"
   ]
  },
  {
   "cell_type": "code",
   "execution_count": 15,
   "id": "5e7cdc40-9eee-455b-a4c8-d8328306cb1f",
   "metadata": {},
   "outputs": [
    {
     "data": {
      "image/png": "[encoded data removed]",
      "text/plain": [
       "<Figure size 640x480 with 1 Axes>"
      ]
     },
     "metadata": {},
     "output_type": "display_data"
    }
   ],
   "source": [
    "plot_losses(history)"
   ]
  },
  {
   "cell_type": "markdown",
   "id": "2721d5fa-8890-4e62-be96-603dbe026cf8",
   "metadata": {},
   "source": [
    "## Random Forest as classical baseline "
   ]
  },
  {
   "cell_type": "markdown",
   "id": "3cc65923-7c88-4893-92d0-c9bc38913127",
   "metadata": {},
   "source": [
    "Before finally evaluating the QNN, we also train a classical method to enable a comparison. A common choice for churn prediction is the Random Forest, which we will use as our baseline. The sklearn implementation with default settings (except the random seed) is trained below."
   ]
  },
  {
   "cell_type": "code",
   "execution_count": 16,
   "id": "610d1061-6ddf-4b91-8121-4727c1a5e397",
   "metadata": {},
   "outputs": [
    {
     "data": {
      "text/html": [
       "<style>#sk-container-id-1 {\n",
       "  /* Definition of color scheme common for light and dark mode */\n",
       "  --sklearn-color-text: black;\n",
       "  --sklearn-color-line: gray;\n",
       "  /* Definition of color scheme for unfitted estimators */\n",
       "  --sklearn-color-unfitted-level-0: #fff5e6;\n",
       "  --sklearn-color-unfitted-level-1: #f6e4d2;\n",
       "  --sklearn-color-unfitted-level-2: #ffe0b3;\n",
       "  --sklearn-color-unfitted-level-3: chocolate;\n",
       "  /* Definition of color scheme for fitted estimators */\n",
       "  --sklearn-color-fitted-level-0: #f0f8ff;\n",
       "  --sklearn-color-fitted-level-1: #d4ebff;\n",
       "  --sklearn-color-fitted-level-2: #b3dbfd;\n",
       "  --sklearn-color-fitted-level-3: cornflowerblue;\n",
       "\n",
       "  /* Specific color for light theme */\n",
       "  --sklearn-color-text-on-default-background: var(--sg-text-color, var(--theme-code-foreground, var(--jp-content-font-color1, black)));\n",
       "  --sklearn-color-background: var(--sg-background-color, var(--theme-background, var(--jp-layout-color0, white)));\n",
       "  --sklearn-color-border-box: var(--sg-text-color, var(--theme-code-foreground, var(--jp-content-font-color1, black)));\n",
       "  --sklearn-color-icon: #696969;\n",
       "\n",
       "  @media (prefers-color-scheme: dark) {\n",
       "    /* Redefinition of color scheme for dark theme */\n",
       "    --sklearn-color-text-on-default-background: var(--sg-text-color, var(--theme-code-foreground, var(--jp-content-font-color1, white)));\n",
       "    --sklearn-color-background: var(--sg-background-color, var(--theme-background, var(--jp-layout-color0, #111)));\n",
       "    --sklearn-color-border-box: var(--sg-text-color, var(--theme-code-foreground, var(--jp-content-font-color1, white)));\n",
       "    --sklearn-color-icon: #878787;\n",
       "  }\n",
       "}\n",
       "\n",
       "#sk-container-id-1 {\n",
       "  color: var(--sklearn-color-text);\n",
       "}\n",
       "\n",
       "#sk-container-id-1 pre {\n",
       "  padding: 0;\n",
       "}\n",
       "\n",
       "#sk-container-id-1 input.sk-hidden--visually {\n",
       "  border: 0;\n",
       "  clip: rect(1px 1px 1px 1px);\n",
       "  clip: rect(1px, 1px, 1px, 1px);\n",
       "  height: 1px;\n",
       "  margin: -1px;\n",
       "  overflow: hidden;\n",
       "  padding: 0;\n",
       "  position: absolute;\n",
       "  width: 1px;\n",
       "}\n",
       "\n",
       "#sk-container-id-1 div.sk-dashed-wrapped {\n",
       "  border: 1px dashed var(--sklearn-color-line);\n",
       "  margin: 0 0.4em 0.5em 0.4em;\n",
       "  box-sizing: border-box;\n",
       "  padding-bottom: 0.4em;\n",
       "  background-color: var(--sklearn-color-background);\n",
       "}\n",
       "\n",
       "#sk-container-id-1 div.sk-container {\n",
       "  /* jupyter's `normalize.less` sets `[hidden] { display: none; }`\n",
       "     but bootstrap.min.css set `[hidden] { display: none !important; }`\n",
       "     so we also need the `!important` here to be able to override the\n",
       "     default hidden behavior on the sphinx rendered scikit-learn.org.\n",
       "     See: https://github.com/scikit-learn/scikit-learn/issues/21755 */\n",
       "  display: inline-block !important;\n",
       "  position: relative;\n",
       "}\n",
       "\n",
       "#sk-container-id-1 div.sk-text-repr-fallback {\n",
       "  display: none;\n",
       "}\n",
       "\n",
       "div.sk-parallel-item,\n",
       "div.sk-serial,\n",
       "div.sk-item {\n",
       "  /* draw centered vertical line to link estimators */\n",
       "  background-image: linear-gradient(var(--sklearn-color-text-on-default-background), var(--sklearn-color-text-on-default-background));\n",
       "  background-size: 2px 100%;\n",
       "  background-repeat: no-repeat;\n",
       "  background-position: center center;\n",
       "}\n",
       "\n",
       "/* Parallel-specific style estimator block */\n",
       "\n",
       "#sk-container-id-1 div.sk-parallel-item::after {\n",
       "  content: \"\";\n",
       "  width: 100%;\n",
       "  border-bottom: 2px solid var(--sklearn-color-text-on-default-background);\n",
       "  flex-grow: 1;\n",
       "}\n",
       "\n",
       "#sk-container-id-1 div.sk-parallel {\n",
       "  display: flex;\n",
       "  align-items: stretch;\n",
       "  justify-content: center;\n",
       "  background-color: var(--sklearn-color-background);\n",
       "  position: relative;\n",
       "}\n",
       "\n",
       "#sk-container-id-1 div.sk-parallel-item {\n",
       "  display: flex;\n",
       "  flex-direction: column;\n",
       "}\n",
       "\n",
       "#sk-container-id-1 div.sk-parallel-item:first-child::after {\n",
       "  align-self: flex-end;\n",
       "  width: 50%;\n",
       "}\n",
       "\n",
       "#sk-container-id-1 div.sk-parallel-item:last-child::after {\n",
       "  align-self: flex-start;\n",
       "  width: 50%;\n",
       "}\n",
       "\n",
       "#sk-container-id-1 div.sk-parallel-item:only-child::after {\n",
       "  width: 0;\n",
       "}\n",
       "\n",
       "/* Serial-specific style estimator block */\n",
       "\n",
       "#sk-container-id-1 div.sk-serial {\n",
       "  display: flex;\n",
       "  flex-direction: column;\n",
       "  align-items: center;\n",
       "  background-color: var(--sklearn-color-background);\n",
       "  padding-right: 1em;\n",
       "  padding-left: 1em;\n",
       "}\n",
       "\n",
       "\n",
       "/* Toggleable style: style used for estimator/Pipeline/ColumnTransformer box that is\n",
       "clickable and can be expanded/collapsed.\n",
       "- Pipeline and ColumnTransformer use this feature and define the default style\n",
       "- Estimators will overwrite some part of the style using the `sk-estimator` class\n",
       "*/\n",
       "\n",
       "/* Pipeline and ColumnTransformer style (default) */\n",
       "\n",
       "#sk-container-id-1 div.sk-toggleable {\n",
       "  /* Default theme specific background. It is overwritten whether we have a\n",
       "  specific estimator or a Pipeline/ColumnTransformer */\n",
       "  background-color: var(--sklearn-color-background);\n",
       "}\n",
       "\n",
       "/* Toggleable label */\n",
       "#sk-container-id-1 label.sk-toggleable__label {\n",
       "  cursor: pointer;\n",
       "  display: block;\n",
       "  width: 100%;\n",
       "  margin-bottom: 0;\n",
       "  padding: 0.5em;\n",
       "  box-sizing: border-box;\n",
       "  text-align: center;\n",
       "}\n",
       "\n",
       "#sk-container-id-1 label.sk-toggleable__label-arrow:before {\n",
       "  /* Arrow on the left of the label */\n",
       "  content: \"▸\";\n",
       "  float: left;\n",
       "  margin-right: 0.25em;\n",
       "  color: var(--sklearn-color-icon);\n",
       "}\n",
       "\n",
       "#sk-container-id-1 label.sk-toggleable__label-arrow:hover:before {\n",
       "  color: var(--sklearn-color-text);\n",
       "}\n",
       "\n",
       "/* Toggleable content - dropdown */\n",
       "\n",
       "#sk-container-id-1 div.sk-toggleable__content {\n",
       "  max-height: 0;\n",
       "  max-width: 0;\n",
       "  overflow: hidden;\n",
       "  text-align: left;\n",
       "  /* unfitted */\n",
       "  background-color: var(--sklearn-color-unfitted-level-0);\n",
       "}\n",
       "\n",
       "#sk-container-id-1 div.sk-toggleable__content.fitted {\n",
       "  /* fitted */\n",
       "  background-color: var(--sklearn-color-fitted-level-0);\n",
       "}\n",
       "\n",
       "#sk-container-id-1 div.sk-toggleable__content pre {\n",
       "  margin: 0.2em;\n",
       "  border-radius: 0.25em;\n",
       "  color: var(--sklearn-color-text);\n",
       "  /* unfitted */\n",
       "  background-color: var(--sklearn-color-unfitted-level-0);\n",
       "}\n",
       "\n",
       "#sk-container-id-1 div.sk-toggleable__content.fitted pre {\n",
       "  /* unfitted */\n",
       "  background-color: var(--sklearn-color-fitted-level-0);\n",
       "}\n",
       "\n",
       "#sk-container-id-1 input.sk-toggleable__control:checked~div.sk-toggleable__content {\n",
       "  /* Expand drop-down */\n",
       "  max-height: 200px;\n",
       "  max-width: 100%;\n",
       "  overflow: auto;\n",
       "}\n",
       "\n",
       "#sk-container-id-1 input.sk-toggleable__control:checked~label.sk-toggleable__label-arrow:before {\n",
       "  content: \"▾\";\n",
       "}\n",
       "\n",
       "/* Pipeline/ColumnTransformer-specific style */\n",
       "\n",
       "#sk-container-id-1 div.sk-label input.sk-toggleable__control:checked~label.sk-toggleable__label {\n",
       "  color: var(--sklearn-color-text);\n",
       "  background-color: var(--sklearn-color-unfitted-level-2);\n",
       "}\n",
       "\n",
       "#sk-container-id-1 div.sk-label.fitted input.sk-toggleable__control:checked~label.sk-toggleable__label {\n",
       "  background-color: var(--sklearn-color-fitted-level-2);\n",
       "}\n",
       "\n",
       "/* Estimator-specific style */\n",
       "\n",
       "/* Colorize estimator box */\n",
       "#sk-container-id-1 div.sk-estimator input.sk-toggleable__control:checked~label.sk-toggleable__label {\n",
       "  /* unfitted */\n",
       "  background-color: var(--sklearn-color-unfitted-level-2);\n",
       "}\n",
       "\n",
       "#sk-container-id-1 div.sk-estimator.fitted input.sk-toggleable__control:checked~label.sk-toggleable__label {\n",
       "  /* fitted */\n",
       "  background-color: var(--sklearn-color-fitted-level-2);\n",
       "}\n",
       "\n",
       "#sk-container-id-1 div.sk-label label.sk-toggleable__label,\n",
       "#sk-container-id-1 div.sk-label label {\n",
       "  /* The background is the default theme color */\n",
       "  color: var(--sklearn-color-text-on-default-background);\n",
       "}\n",
       "\n",
       "/* On hover, darken the color of the background */\n",
       "#sk-container-id-1 div.sk-label:hover label.sk-toggleable__label {\n",
       "  color: var(--sklearn-color-text);\n",
       "  background-color: var(--sklearn-color-unfitted-level-2);\n",
       "}\n",
       "\n",
       "/* Label box, darken color on hover, fitted */\n",
       "#sk-container-id-1 div.sk-label.fitted:hover label.sk-toggleable__label.fitted {\n",
       "  color: var(--sklearn-color-text);\n",
       "  background-color: var(--sklearn-color-fitted-level-2);\n",
       "}\n",
       "\n",
       "/* Estimator label */\n",
       "\n",
       "#sk-container-id-1 div.sk-label label {\n",
       "  font-family: monospace;\n",
       "  font-weight: bold;\n",
       "  display: inline-block;\n",
       "  line-height: 1.2em;\n",
       "}\n",
       "\n",
       "#sk-container-id-1 div.sk-label-container {\n",
       "  text-align: center;\n",
       "}\n",
       "\n",
       "/* Estimator-specific */\n",
       "#sk-container-id-1 div.sk-estimator {\n",
       "  font-family: monospace;\n",
       "  border: 1px dotted var(--sklearn-color-border-box);\n",
       "  border-radius: 0.25em;\n",
       "  box-sizing: border-box;\n",
       "  margin-bottom: 0.5em;\n",
       "  /* unfitted */\n",
       "  background-color: var(--sklearn-color-unfitted-level-0);\n",
       "}\n",
       "\n",
       "#sk-container-id-1 div.sk-estimator.fitted {\n",
       "  /* fitted */\n",
       "  background-color: var(--sklearn-color-fitted-level-0);\n",
       "}\n",
       "\n",
       "/* on hover */\n",
       "#sk-container-id-1 div.sk-estimator:hover {\n",
       "  /* unfitted */\n",
       "  background-color: var(--sklearn-color-unfitted-level-2);\n",
       "}\n",
       "\n",
       "#sk-container-id-1 div.sk-estimator.fitted:hover {\n",
       "  /* fitted */\n",
       "  background-color: var(--sklearn-color-fitted-level-2);\n",
       "}\n",
       "\n",
       "/* Specification for estimator info (e.g. \"i\" and \"?\") */\n",
       "\n",
       "/* Common style for \"i\" and \"?\" */\n",
       "\n",
       ".sk-estimator-doc-link,\n",
       "a:link.sk-estimator-doc-link,\n",
       "a:visited.sk-estimator-doc-link {\n",
       "  float: right;\n",
       "  font-size: smaller;\n",
       "  line-height: 1em;\n",
       "  font-family: monospace;\n",
       "  background-color: var(--sklearn-color-background);\n",
       "  border-radius: 1em;\n",
       "  height: 1em;\n",
       "  width: 1em;\n",
       "  text-decoration: none !important;\n",
       "  margin-left: 1ex;\n",
       "  /* unfitted */\n",
       "  border: var(--sklearn-color-unfitted-level-1) 1pt solid;\n",
       "  color: var(--sklearn-color-unfitted-level-1);\n",
       "}\n",
       "\n",
       ".sk-estimator-doc-link.fitted,\n",
       "a:link.sk-estimator-doc-link.fitted,\n",
       "a:visited.sk-estimator-doc-link.fitted {\n",
       "  /* fitted */\n",
       "  border: var(--sklearn-color-fitted-level-1) 1pt solid;\n",
       "  color: var(--sklearn-color-fitted-level-1);\n",
       "}\n",
       "\n",
       "/* On hover */\n",
       "div.sk-estimator:hover .sk-estimator-doc-link:hover,\n",
       ".sk-estimator-doc-link:hover,\n",
       "div.sk-label-container:hover .sk-estimator-doc-link:hover,\n",
       ".sk-estimator-doc-link:hover {\n",
       "  /* unfitted */\n",
       "  background-color: var(--sklearn-color-unfitted-level-3);\n",
       "  color: var(--sklearn-color-background);\n",
       "  text-decoration: none;\n",
       "}\n",
       "\n",
       "div.sk-estimator.fitted:hover .sk-estimator-doc-link.fitted:hover,\n",
       ".sk-estimator-doc-link.fitted:hover,\n",
       "div.sk-label-container:hover .sk-estimator-doc-link.fitted:hover,\n",
       ".sk-estimator-doc-link.fitted:hover {\n",
       "  /* fitted */\n",
       "  background-color: var(--sklearn-color-fitted-level-3);\n",
       "  color: var(--sklearn-color-background);\n",
       "  text-decoration: none;\n",
       "}\n",
       "\n",
       "/* Span, style for the box shown on hovering the info icon */\n",
       ".sk-estimator-doc-link span {\n",
       "  display: none;\n",
       "  z-index: 9999;\n",
       "  position: relative;\n",
       "  font-weight: normal;\n",
       "  right: .2ex;\n",
       "  padding: .5ex;\n",
       "  margin: .5ex;\n",
       "  width: min-content;\n",
       "  min-width: 20ex;\n",
       "  max-width: 50ex;\n",
       "  color: var(--sklearn-color-text);\n",
       "  box-shadow: 2pt 2pt 4pt #999;\n",
       "  /* unfitted */\n",
       "  background: var(--sklearn-color-unfitted-level-0);\n",
       "  border: .5pt solid var(--sklearn-color-unfitted-level-3);\n",
       "}\n",
       "\n",
       ".sk-estimator-doc-link.fitted span {\n",
       "  /* fitted */\n",
       "  background: var(--sklearn-color-fitted-level-0);\n",
       "  border: var(--sklearn-color-fitted-level-3);\n",
       "}\n",
       "\n",
       ".sk-estimator-doc-link:hover span {\n",
       "  display: block;\n",
       "}\n",
       "\n",
       "/* \"?\"-specific style due to the `<a>` HTML tag */\n",
       "\n",
       "#sk-container-id-1 a.estimator_doc_link {\n",
       "  float: right;\n",
       "  font-size: 1rem;\n",
       "  line-height: 1em;\n",
       "  font-family: monospace;\n",
       "  background-color: var(--sklearn-color-background);\n",
       "  border-radius: 1rem;\n",
       "  height: 1rem;\n",
       "  width: 1rem;\n",
       "  text-decoration: none;\n",
       "  /* unfitted */\n",
       "  color: var(--sklearn-color-unfitted-level-1);\n",
       "  border: var(--sklearn-color-unfitted-level-1) 1pt solid;\n",
       "}\n",
       "\n",
       "#sk-container-id-1 a.estimator_doc_link.fitted {\n",
       "  /* fitted */\n",
       "  border: var(--sklearn-color-fitted-level-1) 1pt solid;\n",
       "  color: var(--sklearn-color-fitted-level-1);\n",
       "}\n",
       "\n",
       "/* On hover */\n",
       "#sk-container-id-1 a.estimator_doc_link:hover {\n",
       "  /* unfitted */\n",
       "  background-color: var(--sklearn-color-unfitted-level-3);\n",
       "  color: var(--sklearn-color-background);\n",
       "  text-decoration: none;\n",
       "}\n",
       "\n",
       "#sk-container-id-1 a.estimator_doc_link.fitted:hover {\n",
       "  /* fitted */\n",
       "  background-color: var(--sklearn-color-fitted-level-3);\n",
       "}\n",
       "</style><div id=\"sk-container-id-1\" class=\"sk-top-container\"><div class=\"sk-text-repr-fallback\"><pre>RandomForestClassifier(random_state=4321)</pre><b>In a Jupyter environment, please rerun this cell to show the HTML representation or trust the notebook. <br />On GitHub, the HTML representation is unable to render, please try loading this page with nbviewer.org.</b></div><div class=\"sk-container\" hidden><div class=\"sk-item\"><div class=\"sk-estimator fitted sk-toggleable\"><input class=\"sk-toggleable__control sk-hidden--visually\" id=\"sk-estimator-id-1\" type=\"checkbox\" checked><label for=\"sk-estimator-id-1\" class=\"sk-toggleable__label fitted sk-toggleable__label-arrow fitted\">&nbsp;&nbsp;RandomForestClassifier<a class=\"sk-estimator-doc-link fitted\" rel=\"noreferrer\" target=\"_blank\" href=\"https://scikit-learn.org/1.4/modules/generated/sklearn.ensemble.RandomForestClassifier.html\">?<span>Documentation for RandomForestClassifier</span></a><span class=\"sk-estimator-doc-link fitted\">i<span>Fitted</span></span></label><div class=\"sk-toggleable__content fitted\"><pre>RandomForestClassifier(random_state=4321)</pre></div> </div></div></div></div>"
      ],
      "text/plain": [
       "RandomForestClassifier(random_state=4321)"
      ]
     },
     "execution_count": 16,
     "metadata": {},
     "output_type": "execute_result"
    }
   ],
   "source": [
    "rf = RandomForestClassifier(random_state=seed)\n",
    "rf.fit(x_tr, y_tr)"
   ]
  },
  {
   "cell_type": "markdown",
   "id": "0f73b877-2c44-46a8-858f-4d61eaf0a431",
   "metadata": {},
   "source": [
    "## Final Evaluation"
   ]
  },
  {
   "cell_type": "markdown",
   "id": "d5623a5c-74d3-4ffc-980a-247f7ab4155c",
   "metadata": {},
   "source": [
    "A basic intuition about the prediction quality achieved by our QNN can be provided by calculating accuracy values. Since the model yields expectation values between 0 and 1, we need to define a threshold (typically 0.5) for distinguishing between the two classes."
   ]
  },
  {
   "cell_type": "code",
   "execution_count": 17,
   "id": "b228ce2b-f3cd-434a-982b-54bc3b4511f7",
   "metadata": {},
   "outputs": [
    {
     "name": "stdout",
     "output_type": "stream",
     "text": [
      "250/250 [==============================] - 52s 208ms/step\n",
      "32/32 [==============================] - 9s 274ms/step\n",
      "32/32 [==============================] - 7s 209ms/step\n",
      "Train accuracy: 0.643625\n",
      "Validation accuracy: 0.632\n",
      "Test accuracy: 0.659\n"
     ]
    }
   ],
   "source": [
    "tr_preds = model.predict(x_tr) >= 0.5\n",
    "val_preds = model.predict(x_val) >= 0.5\n",
    "test_preds = model.predict(x_test) >= 0.5\n",
    "\n",
    "tr_acc = accuracy_score(tr_preds, y_tr)\n",
    "val_acc = accuracy_score(val_preds, y_val)\n",
    "test_acc = accuracy_score(test_preds, y_test)\n",
    "print(\"Train accuracy:\", tr_acc)\n",
    "print(\"Validation accuracy:\", val_acc)\n",
    "print(\"Test accuracy:\", test_acc)"
   ]
  },
  {
   "cell_type": "markdown",
   "id": "7ca14f82-92bc-45f0-8ce2-145cabfcd5a5",
   "metadata": {},
   "source": [
    "However, for a more complete and realistic evaluation, we need to:\n",
    "<ul>\n",
    "    <li>compare QNN performance against the Random Forest baseline</li>\n",
    "    <li>compute a set of alternative measures that reflects the business logics in the task of churn prediction better than accuracy</li>\n",
    "</ul>"
   ]
  },
  {
   "cell_type": "code",
   "execution_count": 18,
   "id": "1fe8e5bb-7212-4734-9a99-16efbcb88057",
   "metadata": {},
   "outputs": [
    {
     "name": "stdout",
     "output_type": "stream",
     "text": [
      "PennyLane QNN:\n"
     ]
    },
    {
     "data": {
      "text/html": [
       "<div>\n",
       "<style scoped>\n",
       "    .dataframe tbody tr th:only-of-type {\n",
       "        vertical-align: middle;\n",
       "    }\n",
       "\n",
       "    .dataframe tbody tr th {\n",
       "        vertical-align: top;\n",
       "    }\n",
       "\n",
       "    .dataframe thead th {\n",
       "        text-align: right;\n",
       "    }\n",
       "</style>\n",
       "<table border=\"1\" class=\"dataframe\">\n",
       "  <thead>\n",
       "    <tr style=\"text-align: right;\">\n",
       "      <th></th>\n",
       "      <th>0</th>\n",
       "      <th>1</th>\n",
       "      <th>accuracy</th>\n",
       "      <th>macro avg</th>\n",
       "      <th>weighted avg</th>\n",
       "    </tr>\n",
       "  </thead>\n",
       "  <tbody>\n",
       "    <tr>\n",
       "      <th>precision</th>\n",
       "      <td>0.801342</td>\n",
       "      <td>0.243137</td>\n",
       "      <td>0.659</td>\n",
       "      <td>0.522240</td>\n",
       "      <td>0.684119</td>\n",
       "    </tr>\n",
       "    <tr>\n",
       "      <th>recall</th>\n",
       "      <td>0.755696</td>\n",
       "      <td>0.295238</td>\n",
       "      <td>0.659</td>\n",
       "      <td>0.525467</td>\n",
       "      <td>0.659000</td>\n",
       "    </tr>\n",
       "    <tr>\n",
       "      <th>f1-score</th>\n",
       "      <td>0.777850</td>\n",
       "      <td>0.266667</td>\n",
       "      <td>0.659</td>\n",
       "      <td>0.522258</td>\n",
       "      <td>0.670502</td>\n",
       "    </tr>\n",
       "    <tr>\n",
       "      <th>support</th>\n",
       "      <td>790.000000</td>\n",
       "      <td>210.000000</td>\n",
       "      <td>0.659</td>\n",
       "      <td>1000.000000</td>\n",
       "      <td>1000.000000</td>\n",
       "    </tr>\n",
       "  </tbody>\n",
       "</table>\n",
       "</div>"
      ],
      "text/plain": [
       "                    0           1  accuracy    macro avg  weighted avg\n",
       "precision    0.801342    0.243137     0.659     0.522240      0.684119\n",
       "recall       0.755696    0.295238     0.659     0.525467      0.659000\n",
       "f1-score     0.777850    0.266667     0.659     0.522258      0.670502\n",
       "support    790.000000  210.000000     0.659  1000.000000   1000.000000"
      ]
     },
     "execution_count": 18,
     "metadata": {},
     "output_type": "execute_result"
    }
   ],
   "source": [
    "print(\"PennyLane QNN:\")\n",
    "pd.DataFrame(classification_report(y_test, test_preds, output_dict=True))"
   ]
  },
  {
   "cell_type": "code",
   "execution_count": 19,
   "id": "8c5a4763-269b-4a3e-bb04-844e460d9197",
   "metadata": {},
   "outputs": [
    {
     "name": "stdout",
     "output_type": "stream",
     "text": [
      "sklearn Random Forest:\n"
     ]
    },
    {
     "data": {
      "text/html": [
       "<div>\n",
       "<style scoped>\n",
       "    .dataframe tbody tr th:only-of-type {\n",
       "        vertical-align: middle;\n",
       "    }\n",
       "\n",
       "    .dataframe tbody tr th {\n",
       "        vertical-align: top;\n",
       "    }\n",
       "\n",
       "    .dataframe thead th {\n",
       "        text-align: right;\n",
       "    }\n",
       "</style>\n",
       "<table border=\"1\" class=\"dataframe\">\n",
       "  <thead>\n",
       "    <tr style=\"text-align: right;\">\n",
       "      <th></th>\n",
       "      <th>0</th>\n",
       "      <th>1</th>\n",
       "      <th>accuracy</th>\n",
       "      <th>macro avg</th>\n",
       "      <th>weighted avg</th>\n",
       "    </tr>\n",
       "  </thead>\n",
       "  <tbody>\n",
       "    <tr>\n",
       "      <th>precision</th>\n",
       "      <td>0.861017</td>\n",
       "      <td>0.756522</td>\n",
       "      <td>0.849</td>\n",
       "      <td>0.808769</td>\n",
       "      <td>0.839073</td>\n",
       "    </tr>\n",
       "    <tr>\n",
       "      <th>recall</th>\n",
       "      <td>0.964557</td>\n",
       "      <td>0.414286</td>\n",
       "      <td>0.849</td>\n",
       "      <td>0.689421</td>\n",
       "      <td>0.849000</td>\n",
       "    </tr>\n",
       "    <tr>\n",
       "      <th>f1-score</th>\n",
       "      <td>0.909851</td>\n",
       "      <td>0.535385</td>\n",
       "      <td>0.849</td>\n",
       "      <td>0.722618</td>\n",
       "      <td>0.831213</td>\n",
       "    </tr>\n",
       "    <tr>\n",
       "      <th>support</th>\n",
       "      <td>790.000000</td>\n",
       "      <td>210.000000</td>\n",
       "      <td>0.849</td>\n",
       "      <td>1000.000000</td>\n",
       "      <td>1000.000000</td>\n",
       "    </tr>\n",
       "  </tbody>\n",
       "</table>\n",
       "</div>"
      ],
      "text/plain": [
       "                    0           1  accuracy    macro avg  weighted avg\n",
       "precision    0.861017    0.756522     0.849     0.808769      0.839073\n",
       "recall       0.964557    0.414286     0.849     0.689421      0.849000\n",
       "f1-score     0.909851    0.535385     0.849     0.722618      0.831213\n",
       "support    790.000000  210.000000     0.849  1000.000000   1000.000000"
      ]
     },
     "execution_count": 19,
     "metadata": {},
     "output_type": "execute_result"
    }
   ],
   "source": [
    "print(\"sklearn Random Forest:\")\n",
    "pd.DataFrame(classification_report(y_test, rf.predict(x_test), output_dict=True))"
   ]
  },
  {
   "cell_type": "markdown",
   "id": "25ed38e9-1cf2-4e75-8324-f37756c10e50",
   "metadata": {},
   "source": [
    "As a result, the comparison of the QNN and Random Forest shows that the latter is significantly better able to predict the minority class of churners. Of course, a real-world implementation would typically also try specific methods for dealing with class imbalances. In addition, the two models in this notebook did not go through a hyperparameter optimization procedure. Nevertheless, the comparison is taking place on common grounds, demonstrating that using variational QML models in an out-of-the-box manner does typically lead to worse results as opposed to established classical ML algorithms."
   ]
  }
 ],
 "metadata": {
  "kernelspec": {
   "display_name": "Python 3 (ipykernel)",
   "language": "python",
   "name": "python3"
  },
  "language_info": {
   "codemirror_mode": {
    "name": "ipython",
    "version": 3
   },
   "file_extension": ".py",
   "mimetype": "text/x-python",
   "name": "python",
   "nbconvert_exporter": "python",
   "pygments_lexer": "ipython3",
   "version": "3.11.8"
  }
 },
 "nbformat": 4,
 "nbformat_minor": 5
}
