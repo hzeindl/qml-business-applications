{
 "cells": [
  {
   "cell_type": "markdown",
   "id": "763735ce-fec7-4f58-b4b0-34a988356625",
   "metadata": {},
   "source": [
    "# Predicitive Maintenance - Machine Failure Classification"
   ]
  },
  {
   "cell_type": "markdown",
   "id": "7d472628-0d8f-46ed-bfe7-b2a52da7fd46",
   "metadata": {},
   "source": [
    "This notebook demonstrates how variational quantum machine learning (QML) models, also known as quantum neural networks (QNN), can be trained using the <b>Qiskit Machine Learning</b> library of IBM's Qiskit 1.0 SDK for quantum computing. The code includes two different QML models: On the one hand, the VariationalQuantumClassifier (VQC), which is a convenience implementation resembling classical sklearn ML models in usage; on the other hand, the NeuralNetworkClassifier, which allows for a larger degree of customization. The chosen <b>dataset</b> consists of synthetic data for machine failure prediction created for the following XAI paper:\n",
    "<br>\n",
    "<br>\n",
    "Stephan Matzka. Explainable artificial intelligence for predictive maintenance applications. In <i>2020 Third International Conference on Artificial \n",
    "Intelligence for Industries (AI4I)</i>, pages 69–74, Irvine, CA, USA, 2020.\n",
    "<br>\n",
    "<br>\n",
    "A cleaned version of the dataset is publicly available on Kaggle: \n",
    "<br>\n",
    "<br>\n",
    "Stephan Matzka. Machine predictive maintenance classification dataset. https://www.kaggle.com/datasets/shivamb/machine-predictive-maintenance-classification, 2020.\n",
    "<br>\n",
    "<br>\n",
    "Parts of the code are adapted from [tutorials](https://qiskit-community.github.io/qiskit-machine-learning/tutorials/index.html) provided in the Qiskit Machine Learning documentation."
   ]
  },
  {
   "cell_type": "markdown",
   "id": "03819492-5575-47ef-928b-6854995d5379",
   "metadata": {},
   "source": [
    "## Environment Setup"
   ]
  },
  {
   "cell_type": "markdown",
   "id": "ebdb2c34-c474-4801-bfd5-57a31015b24b",
   "metadata": {},
   "source": [
    "We begin by performing necessary imports and configurations:"
   ]
  },
  {
   "cell_type": "code",
   "execution_count": 1,
   "id": "ad1f36a4-3176-41ad-a875-83a548e46488",
   "metadata": {},
   "outputs": [],
   "source": [
    "import numpy as np\n",
    "import pandas as pd\n",
    "from IPython.display import clear_output\n",
    "import matplotlib.pyplot as plt\n",
    "from scipy.optimize import minimize\n",
    "from sklearn.ensemble import RandomForestClassifier\n",
    "from sklearn.metrics import accuracy_score, classification_report\n",
    "from sklearn.model_selection import train_test_split\n",
    "from sklearn.preprocessing import MinMaxScaler, OneHotEncoder\n",
    "from sklearn.utils import shuffle"
   ]
  },
  {
   "cell_type": "code",
   "execution_count": 2,
   "id": "bffa18d6-d156-4aa4-b4d5-ac189acf95a8",
   "metadata": {},
   "outputs": [],
   "source": [
    "# General Qiskit tools\n",
    "from qiskit_algorithms.optimizers import COBYLA\n",
    "from qiskit_algorithms.utils import algorithm_globals\n",
    "from qiskit.circuit import QuantumCircuit\n",
    "from qiskit.circuit.library import ZZFeatureMap, TwoLocal\n",
    "from qiskit.quantum_info import SparsePauliOp\n",
    "\n",
    "# Qiskit Aer simulator\n",
    "from qiskit_aer.primitives import Estimator\n",
    "from qiskit_aer import AerSimulator\n",
    "\n",
    "# Qiskit ML tools\n",
    "from qiskit_machine_learning.algorithms import NeuralNetworkClassifier\n",
    "from qiskit_machine_learning.algorithms.classifiers import VQC\n",
    "from qiskit_machine_learning.circuit.library import QNNCircuit\n",
    "from qiskit_machine_learning.neural_networks import EstimatorQNN"
   ]
  },
  {
   "cell_type": "code",
   "execution_count": 3,
   "id": "a7536452-6090-41bd-90ee-07421f8db820",
   "metadata": {},
   "outputs": [],
   "source": [
    "# Set the seed for reproducibility\n",
    "seed = 42\n",
    "np.random.seed(seed)\n",
    "algorithm_globals.random_seed = seed"
   ]
  },
  {
   "cell_type": "markdown",
   "id": "a2dd42d9-a18f-4a9a-ad3d-bfde0737b391",
   "metadata": {},
   "source": [
    "## Loading and inspecting the data"
   ]
  },
  {
   "cell_type": "markdown",
   "id": "a0e29863-c263-4fc5-a4a2-d5049b39e907",
   "metadata": {},
   "source": [
    "Next, we load the dataset, which is assumed to be located in the same folder as this notebook. We drop the categorical features 'UDI', 'Product ID', since a one-hot encoding of their individual categories would lead to a large total number of features, which we want to avoid for our simulations. In addition, 'failure type', which is an alternative representation of the target, is dropped as well."
   ]
  },
  {
   "cell_type": "code",
   "execution_count": 4,
   "id": "eda06a92-8f4f-4492-92e3-eea699d87d7d",
   "metadata": {},
   "outputs": [
    {
     "name": "stdout",
     "output_type": "stream",
     "text": [
      "Shape of dataset: (10000, 7)\n"
     ]
    }
   ],
   "source": [
    "failure_df = pd.read_csv('predictive_maintenance.csv')\n",
    "failure_df = failure_df.drop(columns=['UDI', 'Product ID', 'Failure Type'])\n",
    "print(f'Shape of dataset: {failure_df.shape}')"
   ]
  },
  {
   "cell_type": "markdown",
   "id": "2abb65c1-5917-4929-99b4-a354cbd98a04",
   "metadata": {},
   "source": [
    "This leaves us with a dataset of 10.000 samples consisting of a binary target indicating machine failure, 5 numerical features, and one categorical feature. However, since we are mainly interested in showcasing the workflow, we will restrict to dataset size to 1000 samples to shorten training times of the variational QML models. We first check the balance between the two classes in the full dataset:"
   ]
  },
  {
   "cell_type": "code",
   "execution_count": 5,
   "id": "4ff1d10d-8416-4931-8670-85910a2a323c",
   "metadata": {},
   "outputs": [
    {
     "data": {
      "text/plain": [
       "Target\n",
       "0    9661\n",
       "1     339\n",
       "Name: count, dtype: int64"
      ]
     },
     "execution_count": 5,
     "metadata": {},
     "output_type": "execute_result"
    }
   ],
   "source": [
    "failure_df['Target'].value_counts()"
   ]
  },
  {
   "cell_type": "markdown",
   "id": "286fe8d9-d89b-4ba1-9fb1-6dbd664b9086",
   "metadata": {},
   "source": [
    "We can see that there is a very unequal distribution of classes, i.e., if we draw a random sample from the data, we are far more likely to obtain a non-failure sample compared to obtaining a failure sample (approximately 96.6% vs. 3.4%). Since the business goal is to predict the rare cases of failure, it is advisable to take this imbalance into consideration when reducing the size of the dataset. Thus, we keep all the positive samples. For the remaining 661 samples, we can use the pandas sample() function to effectively implement an undersampling procedure."
   ]
  },
  {
   "cell_type": "code",
   "execution_count": 6,
   "id": "1b639862-75d0-4414-96b8-30322d88ff22",
   "metadata": {},
   "outputs": [
    {
     "name": "stdout",
     "output_type": "stream",
     "text": [
      "Shape of reduced dataset: (1000, 7)\n",
      "Target\n",
      "0    661\n",
      "1    339\n",
      "Name: count, dtype: int64\n"
     ]
    }
   ],
   "source": [
    "# Separate the dataframe into failure and non-failure samples\n",
    "failure_cases = failure_df[failure_df['Target'] == 1]\n",
    "non_failure_cases = failure_df[failure_df['Target'] == 0]\n",
    "\n",
    "# Randomly sample 661 non-failure samples\n",
    "non_failure_sampled = non_failure_cases.sample(n=661, random_state=seed)\n",
    "\n",
    "# Concatenate failure cases with the sampled non-failure cases\n",
    "reduced_df = pd.concat([failure_cases, non_failure_sampled])\n",
    "# Shuffling\n",
    "reduced_df = shuffle(reduced_df, random_state=seed).reset_index(drop=True)\n",
    "\n",
    "print(f'Shape of reduced dataset: {reduced_df.shape}')\n",
    "print(reduced_df['Target'].value_counts())"
   ]
  },
  {
   "cell_type": "markdown",
   "id": "1e8da740-dcc5-4906-9451-0f5bdaa2025d",
   "metadata": {},
   "source": [
    "Now we can take a look at some descriptive statistics for the numerical features in our reduced dataset:"
   ]
  },
  {
   "cell_type": "code",
   "execution_count": 7,
   "id": "2b3670d6-240f-40d5-a0f9-4e675d0f93f8",
   "metadata": {},
   "outputs": [
    {
     "data": {
      "text/html": [
       "<div>\n",
       "<style scoped>\n",
       "    .dataframe tbody tr th:only-of-type {\n",
       "        vertical-align: middle;\n",
       "    }\n",
       "\n",
       "    .dataframe tbody tr th {\n",
       "        vertical-align: top;\n",
       "    }\n",
       "\n",
       "    .dataframe thead th {\n",
       "        text-align: right;\n",
       "    }\n",
       "</style>\n",
       "<table border=\"1\" class=\"dataframe\">\n",
       "  <thead>\n",
       "    <tr style=\"text-align: right;\">\n",
       "      <th></th>\n",
       "      <th>Air temperature [K]</th>\n",
       "      <th>Process temperature [K]</th>\n",
       "      <th>Rotational speed [rpm]</th>\n",
       "      <th>Torque [Nm]</th>\n",
       "      <th>Tool wear [min]</th>\n",
       "      <th>Target</th>\n",
       "    </tr>\n",
       "  </thead>\n",
       "  <tbody>\n",
       "    <tr>\n",
       "      <th>count</th>\n",
       "      <td>1000.000000</td>\n",
       "      <td>1000.000000</td>\n",
       "      <td>1000.00000</td>\n",
       "      <td>1000.000000</td>\n",
       "      <td>1000.000000</td>\n",
       "      <td>1000.000000</td>\n",
       "    </tr>\n",
       "    <tr>\n",
       "      <th>mean</th>\n",
       "      <td>300.263900</td>\n",
       "      <td>310.110600</td>\n",
       "      <td>1521.55700</td>\n",
       "      <td>43.358700</td>\n",
       "      <td>118.016000</td>\n",
       "      <td>0.339000</td>\n",
       "    </tr>\n",
       "    <tr>\n",
       "      <th>std</th>\n",
       "      <td>2.003932</td>\n",
       "      <td>1.420114</td>\n",
       "      <td>259.54798</td>\n",
       "      <td>13.060058</td>\n",
       "      <td>69.322459</td>\n",
       "      <td>0.473607</td>\n",
       "    </tr>\n",
       "    <tr>\n",
       "      <th>min</th>\n",
       "      <td>295.600000</td>\n",
       "      <td>306.100000</td>\n",
       "      <td>1181.00000</td>\n",
       "      <td>3.800000</td>\n",
       "      <td>0.000000</td>\n",
       "      <td>0.000000</td>\n",
       "    </tr>\n",
       "    <tr>\n",
       "      <th>25%</th>\n",
       "      <td>298.500000</td>\n",
       "      <td>309.000000</td>\n",
       "      <td>1371.00000</td>\n",
       "      <td>35.200000</td>\n",
       "      <td>57.000000</td>\n",
       "      <td>0.000000</td>\n",
       "    </tr>\n",
       "    <tr>\n",
       "      <th>50%</th>\n",
       "      <td>300.400000</td>\n",
       "      <td>310.200000</td>\n",
       "      <td>1455.50000</td>\n",
       "      <td>43.500000</td>\n",
       "      <td>119.500000</td>\n",
       "      <td>0.000000</td>\n",
       "    </tr>\n",
       "    <tr>\n",
       "      <th>75%</th>\n",
       "      <td>302.000000</td>\n",
       "      <td>311.100000</td>\n",
       "      <td>1580.25000</td>\n",
       "      <td>52.100000</td>\n",
       "      <td>184.000000</td>\n",
       "      <td>1.000000</td>\n",
       "    </tr>\n",
       "    <tr>\n",
       "      <th>max</th>\n",
       "      <td>304.400000</td>\n",
       "      <td>313.700000</td>\n",
       "      <td>2886.00000</td>\n",
       "      <td>76.600000</td>\n",
       "      <td>253.000000</td>\n",
       "      <td>1.000000</td>\n",
       "    </tr>\n",
       "  </tbody>\n",
       "</table>\n",
       "</div>"
      ],
      "text/plain": [
       "       Air temperature [K]  Process temperature [K]  Rotational speed [rpm]  \\\n",
       "count          1000.000000              1000.000000              1000.00000   \n",
       "mean            300.263900               310.110600              1521.55700   \n",
       "std               2.003932                 1.420114               259.54798   \n",
       "min             295.600000               306.100000              1181.00000   \n",
       "25%             298.500000               309.000000              1371.00000   \n",
       "50%             300.400000               310.200000              1455.50000   \n",
       "75%             302.000000               311.100000              1580.25000   \n",
       "max             304.400000               313.700000              2886.00000   \n",
       "\n",
       "       Torque [Nm]  Tool wear [min]       Target  \n",
       "count  1000.000000      1000.000000  1000.000000  \n",
       "mean     43.358700       118.016000     0.339000  \n",
       "std      13.060058        69.322459     0.473607  \n",
       "min       3.800000         0.000000     0.000000  \n",
       "25%      35.200000        57.000000     0.000000  \n",
       "50%      43.500000       119.500000     0.000000  \n",
       "75%      52.100000       184.000000     1.000000  \n",
       "max      76.600000       253.000000     1.000000  "
      ]
     },
     "execution_count": 7,
     "metadata": {},
     "output_type": "execute_result"
    }
   ],
   "source": [
    "reduced_df.describe()"
   ]
  },
  {
   "cell_type": "markdown",
   "id": "8e491816-01cb-4675-93a7-e43b0c77172e",
   "metadata": {},
   "source": [
    "Since the features in our dataset differ greatly in their means and standard deviations, we will need to convert them to a standard scale in order to achieve better results with our predictions."
   ]
  },
  {
   "cell_type": "markdown",
   "id": "f4f54944-092f-41b4-9056-3dde68159b96",
   "metadata": {},
   "source": [
    "## Pre-processing"
   ]
  },
  {
   "cell_type": "markdown",
   "id": "7c1ac21b-23fa-4ca9-acb0-4fed6e4c7d17",
   "metadata": {},
   "source": [
    "Firstly, the pre-built convenience implementation for binary classification in the Qiskit ML library that we will use requires the target values to be $\\{ -1, 1 \\}$. The reason for this lies in the measurement operation that is applied to retrieve classical values from the variational quantum circuit: The default choice for measuring a single qbit is the Pauli $Z$ matrix, which is written down below."
   ]
  },
  {
   "cell_type": "markdown",
   "id": "0cfb0564-3546-4a50-ab76-61db0e325efa",
   "metadata": {},
   "source": [
    "$$Z = \\begin{pmatrix}\n",
    "1 & 0 \\\\\n",
    "0 & -1\n",
    "\\end{pmatrix}$$"
   ]
  },
  {
   "cell_type": "markdown",
   "id": "3cfea4ed-5d79-466a-9a32-8a79f7d473ff",
   "metadata": {},
   "source": [
    "The eigenvalues of this matrix, which determine the set of possible measurement outcomes, are $\\{ -1, 1 \\}$. Thus, the encoding of classes needs to be aligned accordingly."
   ]
  },
  {
   "cell_type": "code",
   "execution_count": 8,
   "id": "83bf1042-b2af-4207-993e-17f8d3f8ef35",
   "metadata": {},
   "outputs": [],
   "source": [
    "# Replace 0 with -1 in the 'Target' column\n",
    "reduced_df['Target'] = reduced_df['Target'].replace(0, -1)"
   ]
  },
  {
   "cell_type": "markdown",
   "id": "08e73e80-88ae-4c6e-ac69-73c7266df68e",
   "metadata": {},
   "source": [
    "For the 'Type' categorical feature, we perform a one-hot encoding, resulting in the replacement of 'Type' by three features 'Type_ . Again we use an encoding in $\\{ -1, 1 \\}$, which can be seen as more natural for quantum computations."
   ]
  },
  {
   "cell_type": "code",
   "execution_count": 9,
   "id": "d00e89fe-fe4f-4bb6-a584-0c0f5d8c67e1",
   "metadata": {},
   "outputs": [
    {
     "data": {
      "text/html": [
       "<div>\n",
       "<style scoped>\n",
       "    .dataframe tbody tr th:only-of-type {\n",
       "        vertical-align: middle;\n",
       "    }\n",
       "\n",
       "    .dataframe tbody tr th {\n",
       "        vertical-align: top;\n",
       "    }\n",
       "\n",
       "    .dataframe thead th {\n",
       "        text-align: right;\n",
       "    }\n",
       "</style>\n",
       "<table border=\"1\" class=\"dataframe\">\n",
       "  <thead>\n",
       "    <tr style=\"text-align: right;\">\n",
       "      <th></th>\n",
       "      <th>Air temperature [K]</th>\n",
       "      <th>Process temperature [K]</th>\n",
       "      <th>Rotational speed [rpm]</th>\n",
       "      <th>Torque [Nm]</th>\n",
       "      <th>Tool wear [min]</th>\n",
       "      <th>Target</th>\n",
       "      <th>Type_H</th>\n",
       "      <th>Type_L</th>\n",
       "      <th>Type_M</th>\n",
       "    </tr>\n",
       "  </thead>\n",
       "  <tbody>\n",
       "    <tr>\n",
       "      <th>0</th>\n",
       "      <td>300.4</td>\n",
       "      <td>309.6</td>\n",
       "      <td>1379</td>\n",
       "      <td>54.5</td>\n",
       "      <td>122</td>\n",
       "      <td>-1</td>\n",
       "      <td>-1.0</td>\n",
       "      <td>1.0</td>\n",
       "      <td>-1.0</td>\n",
       "    </tr>\n",
       "    <tr>\n",
       "      <th>1</th>\n",
       "      <td>300.2</td>\n",
       "      <td>310.3</td>\n",
       "      <td>1331</td>\n",
       "      <td>52.1</td>\n",
       "      <td>30</td>\n",
       "      <td>-1</td>\n",
       "      <td>-1.0</td>\n",
       "      <td>1.0</td>\n",
       "      <td>-1.0</td>\n",
       "    </tr>\n",
       "    <tr>\n",
       "      <th>2</th>\n",
       "      <td>300.7</td>\n",
       "      <td>310.8</td>\n",
       "      <td>1724</td>\n",
       "      <td>30.0</td>\n",
       "      <td>76</td>\n",
       "      <td>-1</td>\n",
       "      <td>-1.0</td>\n",
       "      <td>-1.0</td>\n",
       "      <td>1.0</td>\n",
       "    </tr>\n",
       "    <tr>\n",
       "      <th>3</th>\n",
       "      <td>301.6</td>\n",
       "      <td>310.8</td>\n",
       "      <td>1290</td>\n",
       "      <td>65.3</td>\n",
       "      <td>63</td>\n",
       "      <td>-1</td>\n",
       "      <td>-1.0</td>\n",
       "      <td>-1.0</td>\n",
       "      <td>1.0</td>\n",
       "    </tr>\n",
       "    <tr>\n",
       "      <th>4</th>\n",
       "      <td>299.1</td>\n",
       "      <td>310.5</td>\n",
       "      <td>1419</td>\n",
       "      <td>48.8</td>\n",
       "      <td>76</td>\n",
       "      <td>-1</td>\n",
       "      <td>-1.0</td>\n",
       "      <td>1.0</td>\n",
       "      <td>-1.0</td>\n",
       "    </tr>\n",
       "  </tbody>\n",
       "</table>\n",
       "</div>"
      ],
      "text/plain": [
       "   Air temperature [K]  Process temperature [K]  Rotational speed [rpm]  \\\n",
       "0                300.4                    309.6                    1379   \n",
       "1                300.2                    310.3                    1331   \n",
       "2                300.7                    310.8                    1724   \n",
       "3                301.6                    310.8                    1290   \n",
       "4                299.1                    310.5                    1419   \n",
       "\n",
       "   Torque [Nm]  Tool wear [min]  Target  Type_H  Type_L  Type_M  \n",
       "0         54.5              122      -1    -1.0     1.0    -1.0  \n",
       "1         52.1               30      -1    -1.0     1.0    -1.0  \n",
       "2         30.0               76      -1    -1.0    -1.0     1.0  \n",
       "3         65.3               63      -1    -1.0    -1.0     1.0  \n",
       "4         48.8               76      -1    -1.0     1.0    -1.0  "
      ]
     },
     "execution_count": 9,
     "metadata": {},
     "output_type": "execute_result"
    }
   ],
   "source": [
    "# Original one-hot encoding\n",
    "type_encoder = OneHotEncoder(sparse_output=False)\n",
    "encoded_type = type_encoder.fit_transform(pd.DataFrame(reduced_df['Type']))\n",
    "# Convert the encoded values from 0 vs 1 to -1 vs 1\n",
    "encoded_type_df = pd.DataFrame(encoded_type, columns=type_encoder.get_feature_names_out(['Type'])).replace(0, -1)\n",
    "# Exchange original for encoded columns\n",
    "encoded_df = pd.concat([reduced_df, encoded_type_df], axis=1).drop(columns=['Type'], axis=1)\n",
    "encoded_df.head()"
   ]
  },
  {
   "cell_type": "markdown",
   "id": "a127ae26-4969-4c88-915c-7f5dfe523ed3",
   "metadata": {},
   "source": [
    "Next, we separate features and target and use sklearn to perform an 80-10-10% train-validation-test split on our data."
   ]
  },
  {
   "cell_type": "code",
   "execution_count": 10,
   "id": "f8e58fc4-ef4f-4fa9-84ae-0204dec797ae",
   "metadata": {},
   "outputs": [],
   "source": [
    "x = np.array(encoded_df.drop(columns=['Target']))\n",
    "y = np.array(encoded_df['Target'])\n",
    "\n",
    "# Train-Validation-Test split\n",
    "x_tr, x_test, y_tr, y_test = train_test_split(x, y, train_size = 0.8)\n",
    "x_val, x_test, y_val, y_test = train_test_split(x_test, y_test, train_size = 0.5)"
   ]
  },
  {
   "cell_type": "markdown",
   "id": "7376b711-58f8-46c1-82e1-d579641afa25",
   "metadata": {},
   "source": [
    "To transform all features to a common scale, we can use min-max scaling. Here we have to keep in mind that we later want to encode the classical data we are given into quantum states that can be processed by a variational quantum circuit. In our case, this will be a form of <b>angle encoding</b> where classical data represent angles in parameterized quantum rotation gates. Since using the full range of possible angles in $[0, 2\\pi]$ could lead to a misrepresentation of opposite ends of the interval as being close together, we use a min-max scaling to the more restricted interval $[-\\frac{\\pi}{2}, \\frac{\\pi}{2}]$. The scaler is fitted only on the training set to avoid data leakage."
   ]
  },
  {
   "cell_type": "code",
   "execution_count": 11,
   "id": "edd05511-3354-4782-a348-748689a77e63",
   "metadata": {},
   "outputs": [],
   "source": [
    "# Scaling\n",
    "scaler = MinMaxScaler(feature_range=(-np.pi / 2, np.pi / 2))\n",
    "x_tr = scaler.fit_transform(x_tr)\n",
    "x_test = scaler.transform(x_test)\n",
    "x_val = scaler.transform(x_val)"
   ]
  },
  {
   "cell_type": "markdown",
   "id": "59df8663-bc16-4f1c-a6a3-d231299277b2",
   "metadata": {},
   "source": [
    "## Model 1: Qiskit VQC with TwoLocal Ansatz"
   ]
  },
  {
   "cell_type": "markdown",
   "id": "08e36de6-7f17-42d1-a9b0-ab7091bfd9cf",
   "metadata": {},
   "source": [
    "As our first model, we test the user-friendly VariationalQuantumClassifier (VQC). "
   ]
  },
  {
   "cell_type": "markdown",
   "id": "10f52114-d0c7-40b4-beff-e875516e1d78",
   "metadata": {},
   "source": [
    "Firstly, we define a function for drawing a live plot of the cost function values achieved during training."
   ]
  },
  {
   "cell_type": "code",
   "execution_count": 12,
   "id": "e82703f6-f12f-43db-8068-a7e6d7b96b75",
   "metadata": {},
   "outputs": [],
   "source": [
    "# callback function that draws a live plot when the .fit() method is called\n",
    "def callback_graph(weights, cost_func_eval):\n",
    "    clear_output(wait=True)\n",
    "    cost_func_vals.append(cost_func_eval)\n",
    "    plt.title(\"Cost function value against iteration\")\n",
    "    plt.xlabel(\"Iteration\")\n",
    "    plt.ylabel(\"Cost function value\")\n",
    "    plt.plot(range(len(cost_func_vals)), cost_func_vals)\n",
    "    plt.show()"
   ]
  },
  {
   "cell_type": "markdown",
   "id": "f43e0951-87ba-4c0b-a46d-11f17e0cb7b6",
   "metadata": {},
   "source": [
    "Now we can turn to building the model itself. Recall that the variational QML workflow consists of four major steps:\n",
    "<ul>\n",
    "    <li><b>Data Encoding: </b> Representation of classical data as quantum states.</li>\n",
    "    <li><b>Ansatz: </b> Quantum circuit for manipulating the loaded states via parameterized rotations and fixed controlled operators.</li>\n",
    "    <li><b>Measurement: </b> Retrieval of classical information about the states resulting from application of ansatz.</li>\n",
    "    <li><b>Cost and Optimization: </b> Choice of an appropriate loss function and optimizer to determine best set of parameters.</li>\n",
    "</ul>\n",
    "In the case of Qiskit VQC, however, we only need to explicitly define the first two, and even there we can make use of pre-built Qiskit templates, instead of specifying the gate sequences ourselves. The measurement and cost/optimization steps are taken care of by the VQC internals."
   ]
  },
  {
   "cell_type": "markdown",
   "id": "3e1de0e6-04da-4994-b012-9bc101221185",
   "metadata": {},
   "source": [
    "### Data Encoding"
   ]
  },
  {
   "cell_type": "markdown",
   "id": "bcfc48ed-ae15-447c-862f-6930e529b78d",
   "metadata": {},
   "source": [
    "To represent our data as quantum states, a popular choice is the <b>ZZ feature map</b>, which we will use here. This is a form of angle encoding where the scaled classical data parameterize $R_Z$ Pauli rotation gates. Furthermore, the Hadamard gate is used to create superposition, and entangling operations are included in this encoding via the $CZ$ operator, which is a controlled two-qbit gate. \n",
    "<br>\n",
    "In Qiskit, we can simply define the ZZFeatureMap circuit template with the desired number of qbits. Here we choose 8 qbits, i.e., one qbit per feature."
   ]
  },
  {
   "cell_type": "code",
   "execution_count": 13,
   "id": "7abcb331-12c1-4f23-badb-e6360e7ee880",
   "metadata": {},
   "outputs": [],
   "source": [
    "num_inputs = x_tr.shape[1]\n",
    "feature_map = ZZFeatureMap(num_inputs)"
   ]
  },
  {
   "cell_type": "markdown",
   "id": "f96c9fd9-59f9-4977-9b9c-169b968511c4",
   "metadata": {},
   "source": [
    "### Ansatz"
   ]
  },
  {
   "cell_type": "markdown",
   "id": "24dbb360-72d7-44a8-836d-6d060eb145a0",
   "metadata": {},
   "source": [
    "Next, we define our ansatz. The TwoLocal ansatz belongs to the class of hardware-efficient ansätze, since it includes only operations on at most two neighboring qbits. At the same time, it can also be simulated relatively efficiently. Each layer consists of single-qbit rotations, followed by an entangling block with $CNOT$ gates. This pattern may be repeated multiple times before ending with another rotation block.\n",
    "<br>\n",
    "In Qiskit, the template for the TwoLocal ansatz allows a free choice of parameterized rotation gates for the rotation block and controlled gates for the entangling block. Furthermore, the number of repetitions and the pattern how the qbits are connected pairwise with the controlled gates can be defined."
   ]
  },
  {
   "cell_type": "code",
   "execution_count": 14,
   "id": "8d1ba8e0-20ae-4dfb-a375-93eb404b20bb",
   "metadata": {},
   "outputs": [],
   "source": [
    "twolocal_ansatz = TwoLocal(num_qubits=num_inputs, \n",
    "                           rotation_blocks=['ry', 'rz'],\n",
    "                           entanglement_blocks='cx',\n",
    "                           entanglement='circular',\n",
    "                           insert_barriers=False,\n",
    "                           reps=2)"
   ]
  },
  {
   "cell_type": "markdown",
   "id": "0a16ee11-9e23-483b-9af1-f65a6ace3f3d",
   "metadata": {
    "scrolled": true
   },
   "source": [
    "Qiskit conveniently enables a visualization of the created ansatz:"
   ]
  },
  {
   "cell_type": "code",
   "execution_count": 15,
   "id": "528eb3fd-2e7a-4eeb-968a-1cf154f1d472",
   "metadata": {},
   "outputs": [
    {
     "data": {
      "image/png": "[encoded data removed]",
      "text/plain": [
       "<Figure size 1175.83x421.4 with 1 Axes>"
      ]
     },
     "execution_count": 15,
     "metadata": {},
     "output_type": "execute_result"
    }
   ],
   "source": [
    "twolocal_qc = QuantumCircuit(num_inputs)\n",
    "twolocal_qc.compose(twolocal_ansatz, inplace=True)\n",
    "twolocal_qc.decompose().draw(\"mpl\", scale=0.6)"
   ]
  },
  {
   "cell_type": "markdown",
   "id": "01924f2f-2040-4404-9273-c77fc817b7c9",
   "metadata": {},
   "source": [
    "### Create VQC with data encoding and ansatz"
   ]
  },
  {
   "cell_type": "markdown",
   "id": "04e28400-19f0-4d63-bdba-b633c5d7c121",
   "metadata": {},
   "source": [
    "Now we construct the classifier with the defined encoding (feature map) and ansatz. Furthermore, we use binary cross-entropy loss and the COBYLA optimizer with a maximum of 20 iterations for training. At the callback argument, we pass the function for live plotting of training progress. For the measurement operation, a sampler of any Qiskit simulator or of a quantum device available via Qiskit Runtime can be passed. Here we set it to None, which means that an instance of the default Qiskit Sampler primitive will be created."
   ]
  },
  {
   "cell_type": "code",
   "execution_count": 16,
   "id": "5372ed12-8c6f-4163-bd0e-6ddc30d8a283",
   "metadata": {},
   "outputs": [],
   "source": [
    "# construct variational quantum classifier\n",
    "twolocal_vqc = VQC(\n",
    "                feature_map=feature_map,\n",
    "                ansatz=twolocal_ansatz,\n",
    "                loss=\"cross_entropy\",\n",
    "                optimizer=COBYLA(maxiter=30),\n",
    "                callback=callback_graph,\n",
    "                sampler = None                       # here we could pass a sampler primitive of a real quantum device\n",
    ")"
   ]
  },
  {
   "cell_type": "markdown",
   "id": "24548f2b-a4fb-41e7-9e93-aa97221e9db2",
   "metadata": {},
   "source": [
    "### Model Training"
   ]
  },
  {
   "cell_type": "markdown",
   "id": "bd2146e7-62ea-48cb-96de-2e4ef731bc53",
   "metadata": {
    "scrolled": true
   },
   "source": [
    "All that is required to train the VQC is a call to the fit method with the training data as argument.\n",
    "<br>\n",
    "<br>\n",
    "Note: It takes a while until the live plot of training progress starts to show after the first iteration."
   ]
  },
  {
   "cell_type": "code",
   "execution_count": 17,
   "id": "8f4993a1-b6f3-4a34-959f-7283d793acc0",
   "metadata": {},
   "outputs": [
    {
     "data": {
      "image/png": "[encoded data removed]",
      "text/plain": [
       "<Figure size 1200x600 with 1 Axes>"
      ]
     },
     "metadata": {},
     "output_type": "display_data"
    },
    {
     "data": {
      "text/plain": [
       "<qiskit_machine_learning.algorithms.classifiers.vqc.VQC at 0x22cffa351d0>"
      ]
     },
     "execution_count": 17,
     "metadata": {},
     "output_type": "execute_result"
    }
   ],
   "source": [
    "# list to store cost function values for plotting\n",
    "cost_func_vals = []\n",
    "plt.rcParams[\"figure.figsize\"] = (12, 6)\n",
    "    \n",
    "# fit classifier to data\n",
    "twolocal_vqc.fit(x_tr, y_tr)"
   ]
  },
  {
   "cell_type": "markdown",
   "id": "d1d92559-51b4-401a-9569-3f838f21f13e",
   "metadata": {},
   "source": [
    "### Random Forest as classical baseline"
   ]
  },
  {
   "cell_type": "markdown",
   "id": "434751bc-558c-4ebe-8869-e01718ddf5e0",
   "metadata": {},
   "source": [
    "Before finally evaluating the VQC, we also train a classical method to enable a comparison. A common choice for binary classification is the Random Forest, which we will use as our baseline. The sklearn implementation with default settings (except the random seed) is trained below."
   ]
  },
  {
   "cell_type": "code",
   "execution_count": 18,
   "id": "3626cc05-3d83-4f12-9a44-1fc7095006aa",
   "metadata": {},
   "outputs": [
    {
     "data": {
      "text/html": [
       "<style>#sk-container-id-1 {\n",
       "  /* Definition of color scheme common for light and dark mode */\n",
       "  --sklearn-color-text: black;\n",
       "  --sklearn-color-line: gray;\n",
       "  /* Definition of color scheme for unfitted estimators */\n",
       "  --sklearn-color-unfitted-level-0: #fff5e6;\n",
       "  --sklearn-color-unfitted-level-1: #f6e4d2;\n",
       "  --sklearn-color-unfitted-level-2: #ffe0b3;\n",
       "  --sklearn-color-unfitted-level-3: chocolate;\n",
       "  /* Definition of color scheme for fitted estimators */\n",
       "  --sklearn-color-fitted-level-0: #f0f8ff;\n",
       "  --sklearn-color-fitted-level-1: #d4ebff;\n",
       "  --sklearn-color-fitted-level-2: #b3dbfd;\n",
       "  --sklearn-color-fitted-level-3: cornflowerblue;\n",
       "\n",
       "  /* Specific color for light theme */\n",
       "  --sklearn-color-text-on-default-background: var(--sg-text-color, var(--theme-code-foreground, var(--jp-content-font-color1, black)));\n",
       "  --sklearn-color-background: var(--sg-background-color, var(--theme-background, var(--jp-layout-color0, white)));\n",
       "  --sklearn-color-border-box: var(--sg-text-color, var(--theme-code-foreground, var(--jp-content-font-color1, black)));\n",
       "  --sklearn-color-icon: #696969;\n",
       "\n",
       "  @media (prefers-color-scheme: dark) {\n",
       "    /* Redefinition of color scheme for dark theme */\n",
       "    --sklearn-color-text-on-default-background: var(--sg-text-color, var(--theme-code-foreground, var(--jp-content-font-color1, white)));\n",
       "    --sklearn-color-background: var(--sg-background-color, var(--theme-background, var(--jp-layout-color0, #111)));\n",
       "    --sklearn-color-border-box: var(--sg-text-color, var(--theme-code-foreground, var(--jp-content-font-color1, white)));\n",
       "    --sklearn-color-icon: #878787;\n",
       "  }\n",
       "}\n",
       "\n",
       "#sk-container-id-1 {\n",
       "  color: var(--sklearn-color-text);\n",
       "}\n",
       "\n",
       "#sk-container-id-1 pre {\n",
       "  padding: 0;\n",
       "}\n",
       "\n",
       "#sk-container-id-1 input.sk-hidden--visually {\n",
       "  border: 0;\n",
       "  clip: rect(1px 1px 1px 1px);\n",
       "  clip: rect(1px, 1px, 1px, 1px);\n",
       "  height: 1px;\n",
       "  margin: -1px;\n",
       "  overflow: hidden;\n",
       "  padding: 0;\n",
       "  position: absolute;\n",
       "  width: 1px;\n",
       "}\n",
       "\n",
       "#sk-container-id-1 div.sk-dashed-wrapped {\n",
       "  border: 1px dashed var(--sklearn-color-line);\n",
       "  margin: 0 0.4em 0.5em 0.4em;\n",
       "  box-sizing: border-box;\n",
       "  padding-bottom: 0.4em;\n",
       "  background-color: var(--sklearn-color-background);\n",
       "}\n",
       "\n",
       "#sk-container-id-1 div.sk-container {\n",
       "  /* jupyter's `normalize.less` sets `[hidden] { display: none; }`\n",
       "     but bootstrap.min.css set `[hidden] { display: none !important; }`\n",
       "     so we also need the `!important` here to be able to override the\n",
       "     default hidden behavior on the sphinx rendered scikit-learn.org.\n",
       "     See: https://github.com/scikit-learn/scikit-learn/issues/21755 */\n",
       "  display: inline-block !important;\n",
       "  position: relative;\n",
       "}\n",
       "\n",
       "#sk-container-id-1 div.sk-text-repr-fallback {\n",
       "  display: none;\n",
       "}\n",
       "\n",
       "div.sk-parallel-item,\n",
       "div.sk-serial,\n",
       "div.sk-item {\n",
       "  /* draw centered vertical line to link estimators */\n",
       "  background-image: linear-gradient(var(--sklearn-color-text-on-default-background), var(--sklearn-color-text-on-default-background));\n",
       "  background-size: 2px 100%;\n",
       "  background-repeat: no-repeat;\n",
       "  background-position: center center;\n",
       "}\n",
       "\n",
       "/* Parallel-specific style estimator block */\n",
       "\n",
       "#sk-container-id-1 div.sk-parallel-item::after {\n",
       "  content: \"\";\n",
       "  width: 100%;\n",
       "  border-bottom: 2px solid var(--sklearn-color-text-on-default-background);\n",
       "  flex-grow: 1;\n",
       "}\n",
       "\n",
       "#sk-container-id-1 div.sk-parallel {\n",
       "  display: flex;\n",
       "  align-items: stretch;\n",
       "  justify-content: center;\n",
       "  background-color: var(--sklearn-color-background);\n",
       "  position: relative;\n",
       "}\n",
       "\n",
       "#sk-container-id-1 div.sk-parallel-item {\n",
       "  display: flex;\n",
       "  flex-direction: column;\n",
       "}\n",
       "\n",
       "#sk-container-id-1 div.sk-parallel-item:first-child::after {\n",
       "  align-self: flex-end;\n",
       "  width: 50%;\n",
       "}\n",
       "\n",
       "#sk-container-id-1 div.sk-parallel-item:last-child::after {\n",
       "  align-self: flex-start;\n",
       "  width: 50%;\n",
       "}\n",
       "\n",
       "#sk-container-id-1 div.sk-parallel-item:only-child::after {\n",
       "  width: 0;\n",
       "}\n",
       "\n",
       "/* Serial-specific style estimator block */\n",
       "\n",
       "#sk-container-id-1 div.sk-serial {\n",
       "  display: flex;\n",
       "  flex-direction: column;\n",
       "  align-items: center;\n",
       "  background-color: var(--sklearn-color-background);\n",
       "  padding-right: 1em;\n",
       "  padding-left: 1em;\n",
       "}\n",
       "\n",
       "\n",
       "/* Toggleable style: style used for estimator/Pipeline/ColumnTransformer box that is\n",
       "clickable and can be expanded/collapsed.\n",
       "- Pipeline and ColumnTransformer use this feature and define the default style\n",
       "- Estimators will overwrite some part of the style using the `sk-estimator` class\n",
       "*/\n",
       "\n",
       "/* Pipeline and ColumnTransformer style (default) */\n",
       "\n",
       "#sk-container-id-1 div.sk-toggleable {\n",
       "  /* Default theme specific background. It is overwritten whether we have a\n",
       "  specific estimator or a Pipeline/ColumnTransformer */\n",
       "  background-color: var(--sklearn-color-background);\n",
       "}\n",
       "\n",
       "/* Toggleable label */\n",
       "#sk-container-id-1 label.sk-toggleable__label {\n",
       "  cursor: pointer;\n",
       "  display: block;\n",
       "  width: 100%;\n",
       "  margin-bottom: 0;\n",
       "  padding: 0.5em;\n",
       "  box-sizing: border-box;\n",
       "  text-align: center;\n",
       "}\n",
       "\n",
       "#sk-container-id-1 label.sk-toggleable__label-arrow:before {\n",
       "  /* Arrow on the left of the label */\n",
       "  content: \"▸\";\n",
       "  float: left;\n",
       "  margin-right: 0.25em;\n",
       "  color: var(--sklearn-color-icon);\n",
       "}\n",
       "\n",
       "#sk-container-id-1 label.sk-toggleable__label-arrow:hover:before {\n",
       "  color: var(--sklearn-color-text);\n",
       "}\n",
       "\n",
       "/* Toggleable content - dropdown */\n",
       "\n",
       "#sk-container-id-1 div.sk-toggleable__content {\n",
       "  max-height: 0;\n",
       "  max-width: 0;\n",
       "  overflow: hidden;\n",
       "  text-align: left;\n",
       "  /* unfitted */\n",
       "  background-color: var(--sklearn-color-unfitted-level-0);\n",
       "}\n",
       "\n",
       "#sk-container-id-1 div.sk-toggleable__content.fitted {\n",
       "  /* fitted */\n",
       "  background-color: var(--sklearn-color-fitted-level-0);\n",
       "}\n",
       "\n",
       "#sk-container-id-1 div.sk-toggleable__content pre {\n",
       "  margin: 0.2em;\n",
       "  border-radius: 0.25em;\n",
       "  color: var(--sklearn-color-text);\n",
       "  /* unfitted */\n",
       "  background-color: var(--sklearn-color-unfitted-level-0);\n",
       "}\n",
       "\n",
       "#sk-container-id-1 div.sk-toggleable__content.fitted pre {\n",
       "  /* unfitted */\n",
       "  background-color: var(--sklearn-color-fitted-level-0);\n",
       "}\n",
       "\n",
       "#sk-container-id-1 input.sk-toggleable__control:checked~div.sk-toggleable__content {\n",
       "  /* Expand drop-down */\n",
       "  max-height: 200px;\n",
       "  max-width: 100%;\n",
       "  overflow: auto;\n",
       "}\n",
       "\n",
       "#sk-container-id-1 input.sk-toggleable__control:checked~label.sk-toggleable__label-arrow:before {\n",
       "  content: \"▾\";\n",
       "}\n",
       "\n",
       "/* Pipeline/ColumnTransformer-specific style */\n",
       "\n",
       "#sk-container-id-1 div.sk-label input.sk-toggleable__control:checked~label.sk-toggleable__label {\n",
       "  color: var(--sklearn-color-text);\n",
       "  background-color: var(--sklearn-color-unfitted-level-2);\n",
       "}\n",
       "\n",
       "#sk-container-id-1 div.sk-label.fitted input.sk-toggleable__control:checked~label.sk-toggleable__label {\n",
       "  background-color: var(--sklearn-color-fitted-level-2);\n",
       "}\n",
       "\n",
       "/* Estimator-specific style */\n",
       "\n",
       "/* Colorize estimator box */\n",
       "#sk-container-id-1 div.sk-estimator input.sk-toggleable__control:checked~label.sk-toggleable__label {\n",
       "  /* unfitted */\n",
       "  background-color: var(--sklearn-color-unfitted-level-2);\n",
       "}\n",
       "\n",
       "#sk-container-id-1 div.sk-estimator.fitted input.sk-toggleable__control:checked~label.sk-toggleable__label {\n",
       "  /* fitted */\n",
       "  background-color: var(--sklearn-color-fitted-level-2);\n",
       "}\n",
       "\n",
       "#sk-container-id-1 div.sk-label label.sk-toggleable__label,\n",
       "#sk-container-id-1 div.sk-label label {\n",
       "  /* The background is the default theme color */\n",
       "  color: var(--sklearn-color-text-on-default-background);\n",
       "}\n",
       "\n",
       "/* On hover, darken the color of the background */\n",
       "#sk-container-id-1 div.sk-label:hover label.sk-toggleable__label {\n",
       "  color: var(--sklearn-color-text);\n",
       "  background-color: var(--sklearn-color-unfitted-level-2);\n",
       "}\n",
       "\n",
       "/* Label box, darken color on hover, fitted */\n",
       "#sk-container-id-1 div.sk-label.fitted:hover label.sk-toggleable__label.fitted {\n",
       "  color: var(--sklearn-color-text);\n",
       "  background-color: var(--sklearn-color-fitted-level-2);\n",
       "}\n",
       "\n",
       "/* Estimator label */\n",
       "\n",
       "#sk-container-id-1 div.sk-label label {\n",
       "  font-family: monospace;\n",
       "  font-weight: bold;\n",
       "  display: inline-block;\n",
       "  line-height: 1.2em;\n",
       "}\n",
       "\n",
       "#sk-container-id-1 div.sk-label-container {\n",
       "  text-align: center;\n",
       "}\n",
       "\n",
       "/* Estimator-specific */\n",
       "#sk-container-id-1 div.sk-estimator {\n",
       "  font-family: monospace;\n",
       "  border: 1px dotted var(--sklearn-color-border-box);\n",
       "  border-radius: 0.25em;\n",
       "  box-sizing: border-box;\n",
       "  margin-bottom: 0.5em;\n",
       "  /* unfitted */\n",
       "  background-color: var(--sklearn-color-unfitted-level-0);\n",
       "}\n",
       "\n",
       "#sk-container-id-1 div.sk-estimator.fitted {\n",
       "  /* fitted */\n",
       "  background-color: var(--sklearn-color-fitted-level-0);\n",
       "}\n",
       "\n",
       "/* on hover */\n",
       "#sk-container-id-1 div.sk-estimator:hover {\n",
       "  /* unfitted */\n",
       "  background-color: var(--sklearn-color-unfitted-level-2);\n",
       "}\n",
       "\n",
       "#sk-container-id-1 div.sk-estimator.fitted:hover {\n",
       "  /* fitted */\n",
       "  background-color: var(--sklearn-color-fitted-level-2);\n",
       "}\n",
       "\n",
       "/* Specification for estimator info (e.g. \"i\" and \"?\") */\n",
       "\n",
       "/* Common style for \"i\" and \"?\" */\n",
       "\n",
       ".sk-estimator-doc-link,\n",
       "a:link.sk-estimator-doc-link,\n",
       "a:visited.sk-estimator-doc-link {\n",
       "  float: right;\n",
       "  font-size: smaller;\n",
       "  line-height: 1em;\n",
       "  font-family: monospace;\n",
       "  background-color: var(--sklearn-color-background);\n",
       "  border-radius: 1em;\n",
       "  height: 1em;\n",
       "  width: 1em;\n",
       "  text-decoration: none !important;\n",
       "  margin-left: 1ex;\n",
       "  /* unfitted */\n",
       "  border: var(--sklearn-color-unfitted-level-1) 1pt solid;\n",
       "  color: var(--sklearn-color-unfitted-level-1);\n",
       "}\n",
       "\n",
       ".sk-estimator-doc-link.fitted,\n",
       "a:link.sk-estimator-doc-link.fitted,\n",
       "a:visited.sk-estimator-doc-link.fitted {\n",
       "  /* fitted */\n",
       "  border: var(--sklearn-color-fitted-level-1) 1pt solid;\n",
       "  color: var(--sklearn-color-fitted-level-1);\n",
       "}\n",
       "\n",
       "/* On hover */\n",
       "div.sk-estimator:hover .sk-estimator-doc-link:hover,\n",
       ".sk-estimator-doc-link:hover,\n",
       "div.sk-label-container:hover .sk-estimator-doc-link:hover,\n",
       ".sk-estimator-doc-link:hover {\n",
       "  /* unfitted */\n",
       "  background-color: var(--sklearn-color-unfitted-level-3);\n",
       "  color: var(--sklearn-color-background);\n",
       "  text-decoration: none;\n",
       "}\n",
       "\n",
       "div.sk-estimator.fitted:hover .sk-estimator-doc-link.fitted:hover,\n",
       ".sk-estimator-doc-link.fitted:hover,\n",
       "div.sk-label-container:hover .sk-estimator-doc-link.fitted:hover,\n",
       ".sk-estimator-doc-link.fitted:hover {\n",
       "  /* fitted */\n",
       "  background-color: var(--sklearn-color-fitted-level-3);\n",
       "  color: var(--sklearn-color-background);\n",
       "  text-decoration: none;\n",
       "}\n",
       "\n",
       "/* Span, style for the box shown on hovering the info icon */\n",
       ".sk-estimator-doc-link span {\n",
       "  display: none;\n",
       "  z-index: 9999;\n",
       "  position: relative;\n",
       "  font-weight: normal;\n",
       "  right: .2ex;\n",
       "  padding: .5ex;\n",
       "  margin: .5ex;\n",
       "  width: min-content;\n",
       "  min-width: 20ex;\n",
       "  max-width: 50ex;\n",
       "  color: var(--sklearn-color-text);\n",
       "  box-shadow: 2pt 2pt 4pt #999;\n",
       "  /* unfitted */\n",
       "  background: var(--sklearn-color-unfitted-level-0);\n",
       "  border: .5pt solid var(--sklearn-color-unfitted-level-3);\n",
       "}\n",
       "\n",
       ".sk-estimator-doc-link.fitted span {\n",
       "  /* fitted */\n",
       "  background: var(--sklearn-color-fitted-level-0);\n",
       "  border: var(--sklearn-color-fitted-level-3);\n",
       "}\n",
       "\n",
       ".sk-estimator-doc-link:hover span {\n",
       "  display: block;\n",
       "}\n",
       "\n",
       "/* \"?\"-specific style due to the `<a>` HTML tag */\n",
       "\n",
       "#sk-container-id-1 a.estimator_doc_link {\n",
       "  float: right;\n",
       "  font-size: 1rem;\n",
       "  line-height: 1em;\n",
       "  font-family: monospace;\n",
       "  background-color: var(--sklearn-color-background);\n",
       "  border-radius: 1rem;\n",
       "  height: 1rem;\n",
       "  width: 1rem;\n",
       "  text-decoration: none;\n",
       "  /* unfitted */\n",
       "  color: var(--sklearn-color-unfitted-level-1);\n",
       "  border: var(--sklearn-color-unfitted-level-1) 1pt solid;\n",
       "}\n",
       "\n",
       "#sk-container-id-1 a.estimator_doc_link.fitted {\n",
       "  /* fitted */\n",
       "  border: var(--sklearn-color-fitted-level-1) 1pt solid;\n",
       "  color: var(--sklearn-color-fitted-level-1);\n",
       "}\n",
       "\n",
       "/* On hover */\n",
       "#sk-container-id-1 a.estimator_doc_link:hover {\n",
       "  /* unfitted */\n",
       "  background-color: var(--sklearn-color-unfitted-level-3);\n",
       "  color: var(--sklearn-color-background);\n",
       "  text-decoration: none;\n",
       "}\n",
       "\n",
       "#sk-container-id-1 a.estimator_doc_link.fitted:hover {\n",
       "  /* fitted */\n",
       "  background-color: var(--sklearn-color-fitted-level-3);\n",
       "}\n",
       "</style><div id=\"sk-container-id-1\" class=\"sk-top-container\"><div class=\"sk-text-repr-fallback\"><pre>RandomForestClassifier(random_state=42)</pre><b>In a Jupyter environment, please rerun this cell to show the HTML representation or trust the notebook. <br />On GitHub, the HTML representation is unable to render, please try loading this page with nbviewer.org.</b></div><div class=\"sk-container\" hidden><div class=\"sk-item\"><div class=\"sk-estimator fitted sk-toggleable\"><input class=\"sk-toggleable__control sk-hidden--visually\" id=\"sk-estimator-id-1\" type=\"checkbox\" checked><label for=\"sk-estimator-id-1\" class=\"sk-toggleable__label fitted sk-toggleable__label-arrow fitted\">&nbsp;&nbsp;RandomForestClassifier<a class=\"sk-estimator-doc-link fitted\" rel=\"noreferrer\" target=\"_blank\" href=\"https://scikit-learn.org/1.4/modules/generated/sklearn.ensemble.RandomForestClassifier.html\">?<span>Documentation for RandomForestClassifier</span></a><span class=\"sk-estimator-doc-link fitted\">i<span>Fitted</span></span></label><div class=\"sk-toggleable__content fitted\"><pre>RandomForestClassifier(random_state=42)</pre></div> </div></div></div></div>"
      ],
      "text/plain": [
       "RandomForestClassifier(random_state=42)"
      ]
     },
     "execution_count": 18,
     "metadata": {},
     "output_type": "execute_result"
    }
   ],
   "source": [
    "rf = RandomForestClassifier(random_state=seed)\n",
    "rf.fit(x_tr, y_tr)"
   ]
  },
  {
   "cell_type": "markdown",
   "id": "a02c6080-feee-43fb-8fb9-044ba661ee26",
   "metadata": {},
   "source": [
    "### Evaluation of QML and classical ML model"
   ]
  },
  {
   "cell_type": "markdown",
   "id": "1a88956e-8bb2-482c-af4a-c97fa35d9f02",
   "metadata": {},
   "source": [
    "A first intuition about the comparative performance of VQC and Random Forest can be obtained by comparing their accuracy on the validation set."
   ]
  },
  {
   "cell_type": "code",
   "execution_count": 19,
   "id": "e1d31990-077f-44bd-8230-628fa2c504f3",
   "metadata": {},
   "outputs": [
    {
     "name": "stdout",
     "output_type": "stream",
     "text": [
      "VQC accuracy on training set: 0.5475\n",
      "VQC accuracy on validation set: 0.51\n"
     ]
    }
   ],
   "source": [
    "# score QML classifier\n",
    "print(f'VQC accuracy on training set: {twolocal_vqc.score(x_tr, y_tr)}')\n",
    "print(f'VQC accuracy on validation set: {twolocal_vqc.score(x_val, y_val)}')"
   ]
  },
  {
   "cell_type": "code",
   "execution_count": 20,
   "id": "49d591c5-fd57-4ae4-a219-36db1415b7e0",
   "metadata": {},
   "outputs": [
    {
     "name": "stdout",
     "output_type": "stream",
     "text": [
      "RF accuracy on training set: 1.0\n",
      "RF accuracy on validation set: 0.91\n"
     ]
    }
   ],
   "source": [
    "# score Random Forest\n",
    "print(f'RF accuracy on training set: {accuracy_score(rf.predict(x_tr), y_tr)}')\n",
    "print(f'RF accuracy on validation set: {accuracy_score(rf.predict(x_val), y_val)}')"
   ]
  },
  {
   "cell_type": "markdown",
   "id": "f94c0b50-8465-4f6d-883f-41bc10e4d18e",
   "metadata": {},
   "source": [
    "We will extend evaluation to other measures incorporating the imbalance of classes once we completed training of the second QML model."
   ]
  },
  {
   "cell_type": "markdown",
   "id": "0169c5c5-ac58-40b8-9825-7428b3560dde",
   "metadata": {},
   "source": [
    "## Model 2: NeuralNetworkClassifier with parameter initialization"
   ]
  },
  {
   "cell_type": "markdown",
   "id": "67c9387d-9955-4599-b26e-174335071c33",
   "metadata": {},
   "source": [
    "The NeuralNetworkClassifier is a variational QML implementation that allows for customizing aspects such as the observable, measurement via sampling or expectation values, initialization of variational parameters, and structure of the training loop. In this part of the notebook, we demonstrate these options step-by-step while reusing the <b> same data encoding and ansatz </b> which we defined before using the ZZFeatureMap and TwoLocal templates."
   ]
  },
  {
   "cell_type": "markdown",
   "id": "070a8bc7-2f57-446f-8602-4093c109e64f",
   "metadata": {},
   "source": [
    "### Measurement"
   ]
  },
  {
   "cell_type": "markdown",
   "id": "93746596-d37c-46a6-9973-c0e2b9df1b0d",
   "metadata": {},
   "source": [
    "Our measurement strategy will consist of estimating the expectation value of the Pauli Z observable only on the first qbit in the model's circuit (readout qbit)."
   ]
  },
  {
   "cell_type": "code",
   "execution_count": 21,
   "id": "d6c2f7fb-14c5-4d6d-b375-beb8965b371c",
   "metadata": {},
   "outputs": [],
   "source": [
    "# Pauli Z on first qbit and identity on remaining qbits \n",
    "obs = SparsePauliOp(\"Z\" + \"I\"* (x_tr.shape[1]-1))"
   ]
  },
  {
   "cell_type": "markdown",
   "id": "585ccf26-75e3-4cdd-b7b8-cebed874e426",
   "metadata": {},
   "source": [
    "### Parameter initialization for optimization"
   ]
  },
  {
   "cell_type": "markdown",
   "id": "a741016c-fa76-4c59-9c4d-2493e9b8248f",
   "metadata": {},
   "source": [
    "Without careful design, the trainability of variational QML methods may be negatively impacted by the phenomenon of <b>barren plateaus</b>, which describes an exponential concentration of gradients leading to a mostly flat optimization landscape. Parameter initialization is one of the factors that are critical in this respect, as investigated by following paper:\n",
    "<br>\n",
    "<br>\n",
    "Muhammad Kashif, Muhammad Rashid, Saif Al-Kuwari, and Muhammad Shafique. Alleviating Barren Plateaus in Parameterized Quantum Machine Learning Circuits: Investigating Advanced Parameter Initialization Strategies. In <i>2024 Design, Automation & Test in Europe Conference & Exhibition (DATE)</i>, pages 1-6, Valencia, IEEE, 2024.\n",
    "<br>\n",
    "Also available on arXiv: https://arxiv.org/pdf/2311.13218\n",
    "<br>\n",
    "<br>\n",
    "This study compared the effects of LeCun, Xavier, He, and Orthogonal initialization techniques to random initialization, finding a 62.3% reduction in gradient variance decay for Xavier initialization as best-performing method. Thus, we will demonstrate how to run NeuralNetworkClassifier with a custom parameter initialization scheme, using the Xavier normal initialization as an example. In this method, the weights are drawn from following normal distribution:\n",
    "<br>\n",
    "<br>\n",
    "$\\theta \\sim \\mathcal{N}\\left( 0, \\frac{2}{n_{in} + n_{out}} \\right)$\n",
    "<br>\n",
    "<br>\n",
    "where $n_{in}, n_{out}$ stand for the number of incoming and outgoing connections, respectively. In our case, both are equal to the number of qbits, since we have a circuit of constant width."
   ]
  },
  {
   "cell_type": "code",
   "execution_count": 22,
   "id": "15500038-1717-4cd7-b139-06d88319fd79",
   "metadata": {},
   "outputs": [],
   "source": [
    "# number of parameters we need to initialize\n",
    "num_parameters = twolocal_ansatz.num_parameters\n",
    "n_in = num_inputs\n",
    "n_out = num_inputs\n",
    "\n",
    "# Xavier Normal\n",
    "xavier_normal_params = np.random.normal(0, np.sqrt(2 / (n_in + n_out)), num_parameters)"
   ]
  },
  {
   "cell_type": "markdown",
   "id": "edefee4d-6b86-481c-8db9-e4fdc549ae92",
   "metadata": {},
   "source": [
    "### Model training"
   ]
  },
  {
   "cell_type": "markdown",
   "id": "e3a834a0-b848-4ce2-b5a4-5844f070e029",
   "metadata": {},
   "source": [
    "Below we define our own training function that builds the NeuralNetworkClassifier with all required ingredients, allowing for a flexible reuse of the code with different inputs. The function concatenates the circuits for data encoding and ansatz, associates them with a measurement strategy in the EstimatorQNN, and trains the classifier with the provided parameter initialization. We again use binary cross-entropy loss and the COBYLA optimizer with maximum 30 iterations."
   ]
  },
  {
   "cell_type": "code",
   "execution_count": 23,
   "id": "1faee41b-8af0-49d9-ba6e-c060a50a32a5",
   "metadata": {},
   "outputs": [],
   "source": [
    "def train_classifier(init_params, samples, labels, featuremap, ansatz, obs, estimator):\n",
    "\n",
    "    \"\"\"\n",
    "    Parameters:\n",
    "        init_params (nparray): Array of ansatz parameter initializations\n",
    "        samples (nparray): Passed samples\n",
    "        labels (nparray): True labels\n",
    "        featuremap (QuantumCircuit): Circuit for encoding data as quantum states\n",
    "        ansatz (QuantumCircuit): Parameterized ansatz circuit \n",
    "        obs (SparsePauliOp): Observable\n",
    "        estimator (EstimatorV1): Primitive for computing expectation value\n",
    "\n",
    "    Returns:\n",
    "        classifier (NeuralNetworkClassifier): Trained QNN Classifier\n",
    "    \"\"\"\n",
    "\n",
    "    # compose them as QNN circuit\n",
    "    qc = QNNCircuit(feature_map = featuremap,\n",
    "                    ansatz = twolocal_ansatz)\n",
    "\n",
    "    # build EstimatorQNN with above circuit\n",
    "    # input and weight parameters are inferred automatically from circuit\n",
    "    qnn = EstimatorQNN(circuit=qc,\n",
    "                        estimator=estimator,\n",
    "                        observables=[obs])\n",
    "    \n",
    "    # use pre-built wrapper class for training\n",
    "    classifier = NeuralNetworkClassifier(neural_network=qnn,\n",
    "                                         loss='cross_entropy',\n",
    "                                         optimizer=COBYLA(maxiter=30),\n",
    "                                         initial_point=init_params,\n",
    "                                         callback=callback_graph           #again visualize training progress\n",
    "                                        )   \n",
    "    \n",
    "    # fit to training data\n",
    "    classifier.fit(samples, labels)\n",
    "    return classifier"
   ]
  },
  {
   "cell_type": "markdown",
   "id": "e8ab6231-946c-4814-8f1a-b2eb10a48db2",
   "metadata": {},
   "source": [
    "Both simulation and execution on quantum devices work via Sampler (for measurement shots) and Estimator (for expectation values) primitives in Qiskit 1.0 or higher. For the following experiment, we use the estimator provided by the high-performance simulator Qiskit Aer, which would also allow advanced options like working with noise models of real quantum hardware."
   ]
  },
  {
   "cell_type": "code",
   "execution_count": 24,
   "id": "c3db07ef-b3d8-49b4-abbd-e3c771067741",
   "metadata": {},
   "outputs": [],
   "source": [
    "# Use Qiskit Aer for higher performance compared to Qiskit SDK primitives\n",
    "estimator = Estimator()"
   ]
  },
  {
   "cell_type": "markdown",
   "id": "c2532897-0f3b-44b6-a12d-4ecf0c6562b0",
   "metadata": {},
   "source": [
    "Now we run our training function using the Aer simulator and the Xavier normal initialization:"
   ]
  },
  {
   "cell_type": "code",
   "execution_count": 25,
   "id": "d662dda1-1353-4e9f-b1bc-a8e030793f4b",
   "metadata": {},
   "outputs": [
    {
     "data": {
      "image/png": "[encoded data removed]",
      "text/plain": [
       "<Figure size 1200x600 with 1 Axes>"
      ]
     },
     "metadata": {},
     "output_type": "display_data"
    }
   ],
   "source": [
    "# list to store cost function values for plotting\n",
    "cost_func_vals = [] \n",
    "\n",
    "qnn_classifier = train_classifier(init_params=xavier_normal_params, \n",
    "                                  samples=x_tr, \n",
    "                                  labels=y_tr, \n",
    "                                  featuremap=feature_map, \n",
    "                                  ansatz=twolocal_ansatz,\n",
    "                                  obs=obs, \n",
    "                                  estimator=estimator)"
   ]
  },
  {
   "cell_type": "markdown",
   "id": "9bf77570-2e19-476f-a633-005663aaf99e",
   "metadata": {},
   "source": [
    "## Detailed Evaluation of all three models"
   ]
  },
  {
   "cell_type": "markdown",
   "id": "e7c83bd4-9bb7-41f9-b2b8-13361868d3a8",
   "metadata": {},
   "source": [
    "For a realistic evaluation of our QML models, we need to:\n",
    "<ul>\n",
    "    <li>compare their performance against the Random Forest baseline</li>\n",
    "    <li>compute a set of alternative measures that reflects the business goal of identifying the rare machine failures better than accuracy</li>\n",
    "</ul>"
   ]
  },
  {
   "cell_type": "code",
   "execution_count": 26,
   "id": "702adfb3-b62e-4786-a224-480e30bc615c",
   "metadata": {},
   "outputs": [],
   "source": [
    "# Get model predictions on validation set\n",
    "rf_val_preds = rf.predict(x_val)\n",
    "vqc_val_preds = twolocal_vqc.predict(x_val)\n",
    "qnn_val_preds = qnn_classifier.predict(x_val)"
   ]
  },
  {
   "cell_type": "code",
   "execution_count": 27,
   "id": "8f4479ef-7344-4054-adcc-966e4daf4f53",
   "metadata": {},
   "outputs": [
    {
     "name": "stdout",
     "output_type": "stream",
     "text": [
      "Classical Baseline - Random Forest:\n"
     ]
    },
    {
     "data": {
      "text/html": [
       "<div>\n",
       "<style scoped>\n",
       "    .dataframe tbody tr th:only-of-type {\n",
       "        vertical-align: middle;\n",
       "    }\n",
       "\n",
       "    .dataframe tbody tr th {\n",
       "        vertical-align: top;\n",
       "    }\n",
       "\n",
       "    .dataframe thead th {\n",
       "        text-align: right;\n",
       "    }\n",
       "</style>\n",
       "<table border=\"1\" class=\"dataframe\">\n",
       "  <thead>\n",
       "    <tr style=\"text-align: right;\">\n",
       "      <th></th>\n",
       "      <th>-1</th>\n",
       "      <th>1</th>\n",
       "      <th>accuracy</th>\n",
       "      <th>macro avg</th>\n",
       "      <th>weighted avg</th>\n",
       "    </tr>\n",
       "  </thead>\n",
       "  <tbody>\n",
       "    <tr>\n",
       "      <th>precision</th>\n",
       "      <td>0.967213</td>\n",
       "      <td>0.820513</td>\n",
       "      <td>0.91</td>\n",
       "      <td>0.893863</td>\n",
       "      <td>0.917335</td>\n",
       "    </tr>\n",
       "    <tr>\n",
       "      <th>recall</th>\n",
       "      <td>0.893939</td>\n",
       "      <td>0.941176</td>\n",
       "      <td>0.91</td>\n",
       "      <td>0.917558</td>\n",
       "      <td>0.910000</td>\n",
       "    </tr>\n",
       "    <tr>\n",
       "      <th>f1-score</th>\n",
       "      <td>0.929134</td>\n",
       "      <td>0.876712</td>\n",
       "      <td>0.91</td>\n",
       "      <td>0.902923</td>\n",
       "      <td>0.911311</td>\n",
       "    </tr>\n",
       "    <tr>\n",
       "      <th>support</th>\n",
       "      <td>66.000000</td>\n",
       "      <td>34.000000</td>\n",
       "      <td>0.91</td>\n",
       "      <td>100.000000</td>\n",
       "      <td>100.000000</td>\n",
       "    </tr>\n",
       "  </tbody>\n",
       "</table>\n",
       "</div>"
      ],
      "text/plain": [
       "                  -1          1  accuracy   macro avg  weighted avg\n",
       "precision   0.967213   0.820513      0.91    0.893863      0.917335\n",
       "recall      0.893939   0.941176      0.91    0.917558      0.910000\n",
       "f1-score    0.929134   0.876712      0.91    0.902923      0.911311\n",
       "support    66.000000  34.000000      0.91  100.000000    100.000000"
      ]
     },
     "execution_count": 27,
     "metadata": {},
     "output_type": "execute_result"
    }
   ],
   "source": [
    "print(\"Classical Baseline - Random Forest:\")\n",
    "pd.DataFrame(classification_report(y_val, rf_val_preds, output_dict=True))"
   ]
  },
  {
   "cell_type": "code",
   "execution_count": 28,
   "id": "b38f0de2",
   "metadata": {},
   "outputs": [
    {
     "name": "stdout",
     "output_type": "stream",
     "text": [
      "Quantum Model 1 - VQC:\n"
     ]
    },
    {
     "data": {
      "text/html": [
       "<div>\n",
       "<style scoped>\n",
       "    .dataframe tbody tr th:only-of-type {\n",
       "        vertical-align: middle;\n",
       "    }\n",
       "\n",
       "    .dataframe tbody tr th {\n",
       "        vertical-align: top;\n",
       "    }\n",
       "\n",
       "    .dataframe thead th {\n",
       "        text-align: right;\n",
       "    }\n",
       "</style>\n",
       "<table border=\"1\" class=\"dataframe\">\n",
       "  <thead>\n",
       "    <tr style=\"text-align: right;\">\n",
       "      <th></th>\n",
       "      <th>-1</th>\n",
       "      <th>1</th>\n",
       "      <th>accuracy</th>\n",
       "      <th>macro avg</th>\n",
       "      <th>weighted avg</th>\n",
       "    </tr>\n",
       "  </thead>\n",
       "  <tbody>\n",
       "    <tr>\n",
       "      <th>precision</th>\n",
       "      <td>0.680851</td>\n",
       "      <td>0.358491</td>\n",
       "      <td>0.51</td>\n",
       "      <td>0.519671</td>\n",
       "      <td>0.571248</td>\n",
       "    </tr>\n",
       "    <tr>\n",
       "      <th>recall</th>\n",
       "      <td>0.484848</td>\n",
       "      <td>0.558824</td>\n",
       "      <td>0.51</td>\n",
       "      <td>0.521836</td>\n",
       "      <td>0.510000</td>\n",
       "    </tr>\n",
       "    <tr>\n",
       "      <th>f1-score</th>\n",
       "      <td>0.566372</td>\n",
       "      <td>0.436782</td>\n",
       "      <td>0.51</td>\n",
       "      <td>0.501577</td>\n",
       "      <td>0.522311</td>\n",
       "    </tr>\n",
       "    <tr>\n",
       "      <th>support</th>\n",
       "      <td>66.000000</td>\n",
       "      <td>34.000000</td>\n",
       "      <td>0.51</td>\n",
       "      <td>100.000000</td>\n",
       "      <td>100.000000</td>\n",
       "    </tr>\n",
       "  </tbody>\n",
       "</table>\n",
       "</div>"
      ],
      "text/plain": [
       "                  -1          1  accuracy   macro avg  weighted avg\n",
       "precision   0.680851   0.358491      0.51    0.519671      0.571248\n",
       "recall      0.484848   0.558824      0.51    0.521836      0.510000\n",
       "f1-score    0.566372   0.436782      0.51    0.501577      0.522311\n",
       "support    66.000000  34.000000      0.51  100.000000    100.000000"
      ]
     },
     "execution_count": 28,
     "metadata": {},
     "output_type": "execute_result"
    }
   ],
   "source": [
    "print(\"Quantum Model 1 - VQC:\")\n",
    "pd.DataFrame(classification_report(y_val, vqc_val_preds, output_dict=True))"
   ]
  },
  {
   "cell_type": "code",
   "execution_count": 30,
   "id": "2c2b3eab",
   "metadata": {},
   "outputs": [
    {
     "name": "stdout",
     "output_type": "stream",
     "text": [
      "Quantum Model 2 - NeuralNetworkClassifier:\n"
     ]
    },
    {
     "data": {
      "text/html": [
       "<div>\n",
       "<style scoped>\n",
       "    .dataframe tbody tr th:only-of-type {\n",
       "        vertical-align: middle;\n",
       "    }\n",
       "\n",
       "    .dataframe tbody tr th {\n",
       "        vertical-align: top;\n",
       "    }\n",
       "\n",
       "    .dataframe thead th {\n",
       "        text-align: right;\n",
       "    }\n",
       "</style>\n",
       "<table border=\"1\" class=\"dataframe\">\n",
       "  <thead>\n",
       "    <tr style=\"text-align: right;\">\n",
       "      <th></th>\n",
       "      <th>-1.0</th>\n",
       "      <th>0.0</th>\n",
       "      <th>1.0</th>\n",
       "      <th>accuracy</th>\n",
       "      <th>macro avg</th>\n",
       "      <th>weighted avg</th>\n",
       "    </tr>\n",
       "  </thead>\n",
       "  <tbody>\n",
       "    <tr>\n",
       "      <th>precision</th>\n",
       "      <td>0.772727</td>\n",
       "      <td>0.0</td>\n",
       "      <td>0.436364</td>\n",
       "      <td>0.58</td>\n",
       "      <td>0.403030</td>\n",
       "      <td>0.658364</td>\n",
       "    </tr>\n",
       "    <tr>\n",
       "      <th>recall</th>\n",
       "      <td>0.515152</td>\n",
       "      <td>0.0</td>\n",
       "      <td>0.705882</td>\n",
       "      <td>0.58</td>\n",
       "      <td>0.407011</td>\n",
       "      <td>0.580000</td>\n",
       "    </tr>\n",
       "    <tr>\n",
       "      <th>f1-score</th>\n",
       "      <td>0.618182</td>\n",
       "      <td>0.0</td>\n",
       "      <td>0.539326</td>\n",
       "      <td>0.58</td>\n",
       "      <td>0.385836</td>\n",
       "      <td>0.591371</td>\n",
       "    </tr>\n",
       "    <tr>\n",
       "      <th>support</th>\n",
       "      <td>66.000000</td>\n",
       "      <td>0.0</td>\n",
       "      <td>34.000000</td>\n",
       "      <td>0.58</td>\n",
       "      <td>100.000000</td>\n",
       "      <td>100.000000</td>\n",
       "    </tr>\n",
       "  </tbody>\n",
       "</table>\n",
       "</div>"
      ],
      "text/plain": [
       "                -1.0  0.0        1.0  accuracy   macro avg  weighted avg\n",
       "precision   0.772727  0.0   0.436364      0.58    0.403030      0.658364\n",
       "recall      0.515152  0.0   0.705882      0.58    0.407011      0.580000\n",
       "f1-score    0.618182  0.0   0.539326      0.58    0.385836      0.591371\n",
       "support    66.000000  0.0  34.000000      0.58  100.000000    100.000000"
      ]
     },
     "execution_count": 30,
     "metadata": {},
     "output_type": "execute_result"
    }
   ],
   "source": [
    "print(\"Quantum Model 2 - NeuralNetworkClassifier:\")\n",
    "pd.DataFrame(classification_report(y_val, qnn_val_preds, output_dict=True, zero_division=0))"
   ]
  },
  {
   "cell_type": "code",
   "execution_count": 31,
   "id": "31f87ec5-87d4-4d8c-8466-064acfc91cb9",
   "metadata": {},
   "outputs": [
    {
     "data": {
      "text/plain": [
       "(array([25], dtype=int64), array([0], dtype=int64))"
      ]
     },
     "execution_count": 31,
     "metadata": {},
     "output_type": "execute_result"
    }
   ],
   "source": [
    "np.where(qnn_val_preds == 0)"
   ]
  },
  {
   "cell_type": "markdown",
   "id": "dc635d37-ff7d-4a3e-a09c-998c9d288bd5",
   "metadata": {},
   "source": [
    "For the NeuralNetworkClassifier, we can see that there is one sample in the validation set with a prediction of 0, instead of -1 or 1. This can occur if the expectation value obtained from running the variational circuit for inference is 0. Since 0 is exactly in the middle between the labels -1 and 1, the prediction value lies exactly in between - the classifier is indecisive."
   ]
  },
  {
   "cell_type": "markdown",
   "id": "24524362-e0e4-45d3-9453-35e37e21e1ce",
   "metadata": {},
   "source": [
    "For the <b>overall evaluation</b>, we can see that our classical Random Forest baseline is superior in every way. Its only limitation from a business perspective is that it still performs relatively worse on the positive class, which we would like to identify correctly. This pattern can also be observed for both QML models. In relation to this, we would be especially <b>interested in high recall</b>, keeping the business logic of the case in mind. Focusing on this metric, we can see that Random Forest identified almost all positive samples (94.1%), followed by the NeuralNetworkClassifier (70.6%) and VQC (55.9%). Thus, we can see that using a more customized QML model with a deliberately chosen paramater initialization strategy paid off with an almost 15% increase in recall compared to the default implementation. In conclusion, we have seen that variational QML models can not be expected to work as well as typical classical ML methods like Random Forest when applied in an out-of-the-box manner."
   ]
  },
  {
   "cell_type": "markdown",
   "id": "6dc85fb6-f182-40a6-9e6f-654fbd7e178e",
   "metadata": {},
   "source": [
    "## Outlook"
   ]
  },
  {
   "cell_type": "markdown",
   "id": "ac7555ca-d2c9-4da6-a7b8-08e6f2d293a2",
   "metadata": {},
   "source": [
    "How could we proceed from here with more QML experiments?"
   ]
  },
  {
   "cell_type": "markdown",
   "id": "cf4807ba-ceb4-454e-a9c8-e45628105231",
   "metadata": {},
   "source": [
    "<ul>\n",
    "    <li>Try other data encodings or ansätze that are available as Qiskit templates</li>\n",
    "    <li>Compare the effects of using other optimizers than COBYLA</li>\n",
    "    <li>Adapt the NeuralNetworkClassifier with other measurement strategies (choice of observable, SamplerQNN instead of EstimatorQNN)</li>\n",
    "    <li>Implement the other parameter initialization options from the paper by Kashif et al.</li>\n",
    "    <li>Use Qiskit ML's connector to PyTorch to build hybrid models </li>\n",
    "    <li>and many more!</li>\n",
    "</ul>"
   ]
  },
  {
   "cell_type": "markdown",
   "id": "ee90bde5-14bb-43d2-8e11-5c13e72cd92a",
   "metadata": {},
   "source": [
    "Links:\n",
    "<br>\n",
    "[Qiskit circuit library](https://docs.quantum.ibm.com/api/qiskit/circuit_library)\n",
    "<br>\n",
    "[Qiskit ML TorchConnector](https://qiskit-community.github.io/qiskit-machine-learning/stubs/qiskit_machine_learning.connectors.TorchConnector.html#qiskit_machine_learning.connectors.TorchConnector)"
   ]
  }
 ],
 "metadata": {
  "kernelspec": {
   "display_name": "Python 3 (ipykernel)",
   "language": "python",
   "name": "python3"
  },
  "language_info": {
   "codemirror_mode": {
    "name": "ipython",
    "version": 3
   },
   "file_extension": ".py",
   "mimetype": "text/x-python",
   "name": "python",
   "nbconvert_exporter": "python",
   "pygments_lexer": "ipython3",
   "version": "3.11.8"
  }
 },
 "nbformat": 4,
 "nbformat_minor": 5
}
